{
 "cells": [
  {
   "cell_type": "markdown",
   "metadata": {
    "id": "cKGkg3WNl9pB"
   },
   "source": [
    "# 1. 넘파이 배열의 연산\n",
    "\n",
    "\n",
    "## 1-1. 배열과 스칼라(상수) 간의 연산\n",
    "* 같은 배열 내 요소의 합 구하기 : *numpy*.**sum**(*ndarray*, axis=0/1) : 1 - row, 0 - column\n",
    "* 배열 전체 요소의 합 구하기 : *ndarray*.**sum()"
   ]
  },
  {
   "cell_type": "code",
   "execution_count": 1,
   "metadata": {},
   "outputs": [],
   "source": [
    "import numpy as np"
   ]
  },
  {
   "cell_type": "code",
   "execution_count": 8,
   "metadata": {
    "colab": {
     "base_uri": "https://localhost:8080/"
    },
    "executionInfo": {
     "elapsed": 3,
     "status": "ok",
     "timestamp": 1684576692083,
     "user": {
      "displayName": "꾬은주",
      "userId": "05623544279730996499"
     },
     "user_tz": -540
    },
    "id": "O2ZeH7dUmEvh",
    "outputId": "9487fc35-b61c-4cd7-fc25-205bda9311e1"
   },
   "outputs": [
    {
     "data": {
      "text/plain": [
       "(array([[1, 2, 3],\n",
       "        [4, 5, 6]]),\n",
       " array([ 6, 15]),\n",
       " array([5, 7, 9]))"
      ]
     },
     "execution_count": 8,
     "metadata": {},
     "output_type": "execute_result"
    }
   ],
   "source": [
    "# 같은 배열 내 요소의 합 구하기\n",
    "# 1 ~ 6 까지의 2x3 배열 생성\n",
    "# row별 합\n",
    "# column별 합\n",
    "a = np.arange(1,7).reshape(2,3)\n",
    "a, np.sum(a, axis=1), np.sum(a, axis=0)"
   ]
  },
  {
   "cell_type": "code",
   "execution_count": 9,
   "metadata": {
    "colab": {
     "base_uri": "https://localhost:8080/"
    },
    "executionInfo": {
     "elapsed": 308,
     "status": "ok",
     "timestamp": 1684576699321,
     "user": {
      "displayName": "꾬은주",
      "userId": "05623544279730996499"
     },
     "user_tz": -540
    },
    "id": "7ywynz4RmG4W",
    "outputId": "1133cb53-b2b3-4063-bf05-cf35597b2250"
   },
   "outputs": [
    {
     "data": {
      "text/plain": [
       "21"
      ]
     },
     "execution_count": 9,
     "metadata": {},
     "output_type": "execute_result"
    }
   ],
   "source": [
    "#배열 전체 요소의 합 구하기\n",
    "a.sum()"
   ]
  },
  {
   "cell_type": "markdown",
   "metadata": {
    "id": "dv9R5LDsmJAU"
   },
   "source": [
    "* 배열과 상수의 사칙연산 -> 배열의 각 요소마다 상수의 사칙연산 적용"
   ]
  },
  {
   "cell_type": "code",
   "execution_count": 12,
   "metadata": {
    "colab": {
     "base_uri": "https://localhost:8080/"
    },
    "executionInfo": {
     "elapsed": 7,
     "status": "ok",
     "timestamp": 1684576727865,
     "user": {
      "displayName": "꾬은주",
      "userId": "05623544279730996499"
     },
     "user_tz": -540
    },
    "id": "2fghFGqbmN2M",
    "outputId": "423a54c3-b07a-47f3-85bc-4c9d9d9b6aa0"
   },
   "outputs": [
    {
     "data": {
      "text/plain": [
       "(array([[ 1,  2,  3,  4],\n",
       "        [ 5,  6,  7,  8],\n",
       "        [ 9, 10, 11, 12]]),\n",
       " array([[11, 12, 13, 14],\n",
       "        [15, 16, 17, 18],\n",
       "        [19, 20, 21, 22]]),\n",
       " array([[-9, -8, -7, -6],\n",
       "        [-5, -4, -3, -2],\n",
       "        [-1,  0,  1,  2]]),\n",
       " array([[ 10,  20,  30,  40],\n",
       "        [ 50,  60,  70,  80],\n",
       "        [ 90, 100, 110, 120]]),\n",
       " array([[0.1, 0.2, 0.3, 0.4],\n",
       "        [0.5, 0.6, 0.7, 0.8],\n",
       "        [0.9, 1. , 1.1, 1.2]]))"
      ]
     },
     "execution_count": 12,
     "metadata": {},
     "output_type": "execute_result"
    }
   ],
   "source": [
    "# 1 ~ 12 까지 숫자를 3x4 배열로 만든 후 상수 10으로 사칙연산하기\n",
    "a = np.arange(1,13).reshape(3,4)\n",
    "a, a+10, a-10, a*10, a/10\n",
    "# list면 그냥 갯수가 바뀜(값이 바뀌지 않음)"
   ]
  },
  {
   "cell_type": "markdown",
   "metadata": {
    "id": "ezS1m-kgmiVa"
   },
   "source": [
    "## 1-2. 브로드캐스팅\n",
    "\n",
    "* 차원의 크기가 다른 배열끼지 산술연산이 가능하도록, 모양/차원이 다른 배열들을 변환하는것\n",
    "  - 최소한 하나의 배열의 1차원인 경우\n",
    "  - 두 배열의 차원의 쌍이 맞을 경우\n",
    "  - 차원에 대해 행의 길이 혹은 열의 길이가 같은 겨우"
   ]
  },
  {
   "cell_type": "code",
   "execution_count": 13,
   "metadata": {
    "colab": {
     "base_uri": "https://localhost:8080/"
    },
    "executionInfo": {
     "elapsed": 351,
     "status": "ok",
     "timestamp": 1684576823437,
     "user": {
      "displayName": "꾬은주",
      "userId": "05623544279730996499"
     },
     "user_tz": -540
    },
    "id": "ysIRJFzsmlA9",
    "outputId": "d9290e0e-6b69-4575-98da-7e5621f0e4ca"
   },
   "outputs": [
    {
     "data": {
      "text/plain": [
       "array([[2, 4],\n",
       "       [4, 6]])"
      ]
     },
     "execution_count": 13,
     "metadata": {},
     "output_type": "execute_result"
    }
   ],
   "source": [
    "A=np.array([[1, 2], [3, 4]])\n",
    "B=np.array([1, 2])\n",
    "A+B"
   ]
  },
  {
   "cell_type": "code",
   "execution_count": 14,
   "metadata": {},
   "outputs": [
    {
     "ename": "ValueError",
     "evalue": "operands could not be broadcast together with shapes (2,2) (3,) ",
     "output_type": "error",
     "traceback": [
      "\u001b[1;31m---------------------------------------------------------------------------\u001b[0m",
      "\u001b[1;31mValueError\u001b[0m                                Traceback (most recent call last)",
      "Cell \u001b[1;32mIn[14], line 3\u001b[0m\n\u001b[0;32m      1\u001b[0m A\u001b[38;5;241m=\u001b[39mnp\u001b[38;5;241m.\u001b[39marray([[\u001b[38;5;241m1\u001b[39m, \u001b[38;5;241m2\u001b[39m], [\u001b[38;5;241m3\u001b[39m, \u001b[38;5;241m4\u001b[39m]])\n\u001b[0;32m      2\u001b[0m B\u001b[38;5;241m=\u001b[39mnp\u001b[38;5;241m.\u001b[39marray([\u001b[38;5;241m1\u001b[39m, \u001b[38;5;241m2\u001b[39m, \u001b[38;5;241m3\u001b[39m])\n\u001b[1;32m----> 3\u001b[0m \u001b[43mA\u001b[49m\u001b[38;5;241;43m+\u001b[39;49m\u001b[43mB\u001b[49m\n",
      "\u001b[1;31mValueError\u001b[0m: operands could not be broadcast together with shapes (2,2) (3,) "
     ]
    }
   ],
   "source": [
    "# 갯수가 안 맞으면 오류남\n",
    "A=np.array([[1, 2], [3, 4]])\n",
    "B=np.array([1, 2, 3])\n",
    "A+B"
   ]
  },
  {
   "cell_type": "code",
   "execution_count": 15,
   "metadata": {
    "colab": {
     "base_uri": "https://localhost:8080/"
    },
    "executionInfo": {
     "elapsed": 2,
     "status": "ok",
     "timestamp": 1684576839667,
     "user": {
      "displayName": "꾬은주",
      "userId": "05623544279730996499"
     },
     "user_tz": -540
    },
    "id": "zFbqT-Ocmokc",
    "outputId": "3fb11eb5-2fc2-452f-918d-ae5f3fde1db1"
   },
   "outputs": [
    {
     "data": {
      "text/plain": [
       "array([[3, 4, 5],\n",
       "       [6, 7, 8]])"
      ]
     },
     "execution_count": 15,
     "metadata": {},
     "output_type": "execute_result"
    }
   ],
   "source": [
    "A=np.array([[1, 2, 3], [4, 5, 6]])\n",
    "B=np.array([2])\n",
    "A+B"
   ]
  },
  {
   "cell_type": "code",
   "execution_count": 16,
   "metadata": {
    "colab": {
     "base_uri": "https://localhost:8080/"
    },
    "executionInfo": {
     "elapsed": 12,
     "status": "ok",
     "timestamp": 1684576847940,
     "user": {
      "displayName": "꾬은주",
      "userId": "05623544279730996499"
     },
     "user_tz": -540
    },
    "id": "P5hRT8jTmq5m",
    "outputId": "42628b88-029f-4dff-ec08-188867fc3d2e"
   },
   "outputs": [
    {
     "data": {
      "text/plain": [
       "array([[ 3,  4,  5],\n",
       "       [ 8,  9, 10]])"
      ]
     },
     "execution_count": 16,
     "metadata": {},
     "output_type": "execute_result"
    }
   ],
   "source": [
    "A=np.array([[1, 2, 3], [4, 5, 6]])\n",
    "B=np.array([[2], [4]])\n",
    "A+B"
   ]
  }
 ],
 "metadata": {
  "colab": {
   "authorship_tag": "ABX9TyMgdRDI49aDreypKDvoDdhA",
   "provenance": []
  },
  "kernelspec": {
   "display_name": "Python 3 (ipykernel)",
   "language": "python",
   "name": "python3"
  },
  "language_info": {
   "codemirror_mode": {
    "name": "ipython",
    "version": 3
   },
   "file_extension": ".py",
   "mimetype": "text/x-python",
   "name": "python",
   "nbconvert_exporter": "python",
   "pygments_lexer": "ipython3",
   "version": "3.10.9"
  }
 },
 "nbformat": 4,
 "nbformat_minor": 1
}

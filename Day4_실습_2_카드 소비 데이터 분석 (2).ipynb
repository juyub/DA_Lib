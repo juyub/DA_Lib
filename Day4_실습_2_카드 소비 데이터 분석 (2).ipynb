{
 "cells": [
  {
   "cell_type": "markdown",
   "metadata": {},
   "source": [
    "# BC 카드 소비 데이터 분석 (2)\n",
    "\n",
    "* 2020년 3월 카드 소비 데이터 : bc_card_out2020_03.txt\n",
    "  - 레코드 수가 100만개 이상\n",
    "  - \\t으로 분리된 csv 파일\n",
    "  - 전처리된 데이터가 저장되어 있음\n",
    "\n",
    "## 1. 데이터 로딩 to DataFrame\n",
    "- 전처리하여 csv로 저장한 파일 '201906.csv'을 판다스 dataframe으로 로딩 (encoding='utf-8', index_col=0)\n",
    "- 앞부분 데이터 확인\n",
    "- 전체 데이터 수 확인"
   ]
  },
  {
   "cell_type": "code",
   "execution_count": 1,
   "metadata": {
    "colab": {
     "base_uri": "https://localhost:8080/",
     "height": 317
    },
    "executionInfo": {
     "elapsed": 508,
     "status": "ok",
     "timestamp": 1684657417579,
     "user": {
      "displayName": "꾬은주",
      "userId": "05623544279730996499"
     },
     "user_tz": -540
    },
    "id": "Jv_Olia7V208",
    "outputId": "5f3b27ff-d84d-46d6-d97c-c773a6396cbe"
   },
   "outputs": [],
   "source": [
    "import pandas as pd"
   ]
  },
  {
   "cell_type": "code",
   "execution_count": 2,
   "metadata": {},
   "outputs": [],
   "source": [
    "# df = pd.read_csv('bc_card_out2020_03.txt', sep='\\t', encoding='UTF-8')\n",
    "# df.to_csv('bc_data_202003.csv', encoding='UTF-8', index=False)"
   ]
  },
  {
   "cell_type": "code",
   "execution_count": 3,
   "metadata": {},
   "outputs": [],
   "source": [
    "bc_card = pd.read_csv('bc_data_202003.csv', sep=',')"
   ]
  },
  {
   "cell_type": "code",
   "execution_count": 4,
   "metadata": {},
   "outputs": [
    {
     "data": {
      "text/html": [
       "<div>\n",
       "<style scoped>\n",
       "    .dataframe tbody tr th:only-of-type {\n",
       "        vertical-align: middle;\n",
       "    }\n",
       "\n",
       "    .dataframe tbody tr th {\n",
       "        vertical-align: top;\n",
       "    }\n",
       "\n",
       "    .dataframe thead th {\n",
       "        text-align: right;\n",
       "    }\n",
       "</style>\n",
       "<table border=\"1\" class=\"dataframe\">\n",
       "  <thead>\n",
       "    <tr style=\"text-align: right;\">\n",
       "      <th></th>\n",
       "      <th>REG_YYMM</th>\n",
       "      <th>MEGA_CTY_NO</th>\n",
       "      <th>MEGA_CTY_NM</th>\n",
       "      <th>CTY_RGN_NO</th>\n",
       "      <th>CTY_RGN_NM</th>\n",
       "      <th>ADMI_CTY_NO</th>\n",
       "      <th>ADMI_CTY_NM</th>\n",
       "      <th>MAIN_BUZ_CODE</th>\n",
       "      <th>MAIN_BUZ_DESC</th>\n",
       "      <th>TP_GRP_NO</th>\n",
       "      <th>...</th>\n",
       "      <th>CSTMR_GUBUN</th>\n",
       "      <th>CSTMR_MEGA_CTY_NO</th>\n",
       "      <th>CSTMR_MEGA_CTY_NM</th>\n",
       "      <th>CSTMR_CTY_RGN_NO</th>\n",
       "      <th>CSTMR_CTY_RGN_NM</th>\n",
       "      <th>SEX_CTGO_CD</th>\n",
       "      <th>AGE_VAL</th>\n",
       "      <th>FLC</th>\n",
       "      <th>AMT</th>\n",
       "      <th>CNT</th>\n",
       "    </tr>\n",
       "  </thead>\n",
       "  <tbody>\n",
       "    <tr>\n",
       "      <th>1589489</th>\n",
       "      <td>202003</td>\n",
       "      <td>11</td>\n",
       "      <td>서울특별시</td>\n",
       "      <td>1126</td>\n",
       "      <td>중랑구</td>\n",
       "      <td>11260575</td>\n",
       "      <td>면목3.8동</td>\n",
       "      <td>80</td>\n",
       "      <td>음식</td>\n",
       "      <td>80</td>\n",
       "      <td>...</td>\n",
       "      <td>내국인</td>\n",
       "      <td>11</td>\n",
       "      <td>서울특별시</td>\n",
       "      <td>1144</td>\n",
       "      <td>마포구</td>\n",
       "      <td>2</td>\n",
       "      <td>50대</td>\n",
       "      <td>4</td>\n",
       "      <td>115000</td>\n",
       "      <td>4</td>\n",
       "    </tr>\n",
       "    <tr>\n",
       "      <th>1589490</th>\n",
       "      <td>202003</td>\n",
       "      <td>11</td>\n",
       "      <td>서울특별시</td>\n",
       "      <td>1162</td>\n",
       "      <td>관악구</td>\n",
       "      <td>11620695</td>\n",
       "      <td>신림동</td>\n",
       "      <td>80</td>\n",
       "      <td>음식</td>\n",
       "      <td>80</td>\n",
       "      <td>...</td>\n",
       "      <td>내국인</td>\n",
       "      <td>11</td>\n",
       "      <td>서울특별시</td>\n",
       "      <td>1174</td>\n",
       "      <td>강동구</td>\n",
       "      <td>2</td>\n",
       "      <td>40대</td>\n",
       "      <td>3</td>\n",
       "      <td>40000</td>\n",
       "      <td>3</td>\n",
       "    </tr>\n",
       "    <tr>\n",
       "      <th>1589491</th>\n",
       "      <td>202003</td>\n",
       "      <td>11</td>\n",
       "      <td>서울특별시</td>\n",
       "      <td>1168</td>\n",
       "      <td>강남구</td>\n",
       "      <td>11680640</td>\n",
       "      <td>역삼1동</td>\n",
       "      <td>40</td>\n",
       "      <td>쇼핑</td>\n",
       "      <td>42</td>\n",
       "      <td>...</td>\n",
       "      <td>내국인</td>\n",
       "      <td>11</td>\n",
       "      <td>서울특별시</td>\n",
       "      <td>1141</td>\n",
       "      <td>서대문구</td>\n",
       "      <td>2</td>\n",
       "      <td>30대</td>\n",
       "      <td>1</td>\n",
       "      <td>89230</td>\n",
       "      <td>3</td>\n",
       "    </tr>\n",
       "    <tr>\n",
       "      <th>1589492</th>\n",
       "      <td>202003</td>\n",
       "      <td>11</td>\n",
       "      <td>서울특별시</td>\n",
       "      <td>1156</td>\n",
       "      <td>영등포구</td>\n",
       "      <td>11560700</td>\n",
       "      <td>대림1동</td>\n",
       "      <td>80</td>\n",
       "      <td>음식</td>\n",
       "      <td>80</td>\n",
       "      <td>...</td>\n",
       "      <td>내국인</td>\n",
       "      <td>11</td>\n",
       "      <td>서울특별시</td>\n",
       "      <td>1121</td>\n",
       "      <td>광진구</td>\n",
       "      <td>2</td>\n",
       "      <td>50대</td>\n",
       "      <td>4</td>\n",
       "      <td>84500</td>\n",
       "      <td>3</td>\n",
       "    </tr>\n",
       "    <tr>\n",
       "      <th>1589493</th>\n",
       "      <td>202003</td>\n",
       "      <td>11</td>\n",
       "      <td>서울특별시</td>\n",
       "      <td>1126</td>\n",
       "      <td>중랑구</td>\n",
       "      <td>11260680</td>\n",
       "      <td>신내1동</td>\n",
       "      <td>80</td>\n",
       "      <td>음식</td>\n",
       "      <td>80</td>\n",
       "      <td>...</td>\n",
       "      <td>내국인</td>\n",
       "      <td>41</td>\n",
       "      <td>경기도</td>\n",
       "      <td>4115</td>\n",
       "      <td>의정부시</td>\n",
       "      <td>2</td>\n",
       "      <td>20대</td>\n",
       "      <td>1</td>\n",
       "      <td>47800</td>\n",
       "      <td>15</td>\n",
       "    </tr>\n",
       "  </tbody>\n",
       "</table>\n",
       "<p>5 rows × 23 columns</p>\n",
       "</div>"
      ],
      "text/plain": [
       "         REG_YYMM  MEGA_CTY_NO MEGA_CTY_NM  CTY_RGN_NO CTY_RGN_NM  \\\n",
       "1589489    202003           11       서울특별시        1126        중랑구   \n",
       "1589490    202003           11       서울특별시        1162        관악구   \n",
       "1589491    202003           11       서울특별시        1168        강남구   \n",
       "1589492    202003           11       서울특별시        1156       영등포구   \n",
       "1589493    202003           11       서울특별시        1126        중랑구   \n",
       "\n",
       "         ADMI_CTY_NO ADMI_CTY_NM  MAIN_BUZ_CODE MAIN_BUZ_DESC  TP_GRP_NO  ...  \\\n",
       "1589489     11260575      면목3.8동             80            음식         80  ...   \n",
       "1589490     11620695         신림동             80            음식         80  ...   \n",
       "1589491     11680640        역삼1동             40            쇼핑         42  ...   \n",
       "1589492     11560700        대림1동             80            음식         80  ...   \n",
       "1589493     11260680        신내1동             80            음식         80  ...   \n",
       "\n",
       "        CSTMR_GUBUN  CSTMR_MEGA_CTY_NO CSTMR_MEGA_CTY_NM CSTMR_CTY_RGN_NO  \\\n",
       "1589489         내국인                 11             서울특별시             1144   \n",
       "1589490         내국인                 11             서울특별시             1174   \n",
       "1589491         내국인                 11             서울특별시             1141   \n",
       "1589492         내국인                 11             서울특별시             1121   \n",
       "1589493         내국인                 41               경기도             4115   \n",
       "\n",
       "         CSTMR_CTY_RGN_NM SEX_CTGO_CD  AGE_VAL FLC     AMT CNT  \n",
       "1589489               마포구           2      50대   4  115000   4  \n",
       "1589490               강동구           2      40대   3   40000   3  \n",
       "1589491              서대문구           2      30대   1   89230   3  \n",
       "1589492               광진구           2      50대   4   84500   3  \n",
       "1589493              의정부시           2      20대   1   47800  15  \n",
       "\n",
       "[5 rows x 23 columns]"
      ]
     },
     "execution_count": 4,
     "metadata": {},
     "output_type": "execute_result"
    }
   ],
   "source": [
    "bc_card.tail()"
   ]
  },
  {
   "cell_type": "code",
   "execution_count": 5,
   "metadata": {},
   "outputs": [
    {
     "data": {
      "text/plain": [
       "1589494"
      ]
     },
     "execution_count": 5,
     "metadata": {},
     "output_type": "execute_result"
    }
   ],
   "source": [
    "len(bc_card)"
   ]
  },
  {
   "cell_type": "code",
   "execution_count": 6,
   "metadata": {},
   "outputs": [
    {
     "name": "stdout",
     "output_type": "stream",
     "text": [
      "<class 'pandas.core.frame.DataFrame'>\n",
      "RangeIndex: 1589494 entries, 0 to 1589493\n",
      "Data columns (total 23 columns):\n",
      " #   Column             Non-Null Count    Dtype \n",
      "---  ------             --------------    ----- \n",
      " 0   REG_YYMM           1589494 non-null  int64 \n",
      " 1   MEGA_CTY_NO        1589494 non-null  int64 \n",
      " 2   MEGA_CTY_NM        1589494 non-null  object\n",
      " 3   CTY_RGN_NO         1589494 non-null  int64 \n",
      " 4   CTY_RGN_NM         1589494 non-null  object\n",
      " 5   ADMI_CTY_NO        1589494 non-null  int64 \n",
      " 6   ADMI_CTY_NM        1589494 non-null  object\n",
      " 7   MAIN_BUZ_CODE      1589494 non-null  int64 \n",
      " 8   MAIN_BUZ_DESC      1589494 non-null  object\n",
      " 9   TP_GRP_NO          1589494 non-null  int64 \n",
      " 10  TP_GRP_NM          1589494 non-null  object\n",
      " 11  TP_BUZ_NO          1589494 non-null  int64 \n",
      " 12  TP_BUZ_NM          1589494 non-null  object\n",
      " 13  CSTMR_GUBUN        1589494 non-null  object\n",
      " 14  CSTMR_MEGA_CTY_NO  1589494 non-null  int64 \n",
      " 15  CSTMR_MEGA_CTY_NM  1589494 non-null  object\n",
      " 16  CSTMR_CTY_RGN_NO   1589494 non-null  int64 \n",
      " 17  CSTMR_CTY_RGN_NM   1589494 non-null  object\n",
      " 18  SEX_CTGO_CD        1589494 non-null  int64 \n",
      " 19  AGE_VAL            1589494 non-null  object\n",
      " 20  FLC                1589494 non-null  int64 \n",
      " 21  AMT                1589494 non-null  int64 \n",
      " 22  CNT                1589494 non-null  int64 \n",
      "dtypes: int64(13), object(10)\n",
      "memory usage: 278.9+ MB\n"
     ]
    }
   ],
   "source": [
    "bc_card.info()"
   ]
  },
  {
   "cell_type": "code",
   "execution_count": 7,
   "metadata": {},
   "outputs": [
    {
     "data": {
      "text/html": [
       "<div>\n",
       "<style scoped>\n",
       "    .dataframe tbody tr th:only-of-type {\n",
       "        vertical-align: middle;\n",
       "    }\n",
       "\n",
       "    .dataframe tbody tr th {\n",
       "        vertical-align: top;\n",
       "    }\n",
       "\n",
       "    .dataframe thead th {\n",
       "        text-align: right;\n",
       "    }\n",
       "</style>\n",
       "<table border=\"1\" class=\"dataframe\">\n",
       "  <thead>\n",
       "    <tr style=\"text-align: right;\">\n",
       "      <th></th>\n",
       "      <th>REG_YYMM</th>\n",
       "      <th>MEGA_CTY_NO</th>\n",
       "      <th>MEGA_CTY_NM</th>\n",
       "      <th>CTY_RGN_NO</th>\n",
       "      <th>CTY_RGN_NM</th>\n",
       "      <th>ADMI_CTY_NO</th>\n",
       "      <th>ADMI_CTY_NM</th>\n",
       "      <th>MAIN_BUZ_CODE</th>\n",
       "      <th>MAIN_BUZ_DESC</th>\n",
       "      <th>TP_GRP_NO</th>\n",
       "      <th>...</th>\n",
       "      <th>CSTMR_GUBUN</th>\n",
       "      <th>CSTMR_MEGA_CTY_NO</th>\n",
       "      <th>CSTMR_MEGA_CTY_NM</th>\n",
       "      <th>CSTMR_CTY_RGN_NO</th>\n",
       "      <th>CSTMR_CTY_RGN_NM</th>\n",
       "      <th>SEX_CTGO_CD</th>\n",
       "      <th>AGE_VAL</th>\n",
       "      <th>FLC</th>\n",
       "      <th>AMT</th>\n",
       "      <th>CNT</th>\n",
       "    </tr>\n",
       "  </thead>\n",
       "  <tbody>\n",
       "  </tbody>\n",
       "</table>\n",
       "<p>0 rows × 23 columns</p>\n",
       "</div>"
      ],
      "text/plain": [
       "Empty DataFrame\n",
       "Columns: [REG_YYMM, MEGA_CTY_NO, MEGA_CTY_NM, CTY_RGN_NO, CTY_RGN_NM, ADMI_CTY_NO, ADMI_CTY_NM, MAIN_BUZ_CODE, MAIN_BUZ_DESC, TP_GRP_NO, TP_GRP_NM, TP_BUZ_NO, TP_BUZ_NM, CSTMR_GUBUN, CSTMR_MEGA_CTY_NO, CSTMR_MEGA_CTY_NM, CSTMR_CTY_RGN_NO, CSTMR_CTY_RGN_NM, SEX_CTGO_CD, AGE_VAL, FLC, AMT, CNT]\n",
       "Index: []\n",
       "\n",
       "[0 rows x 23 columns]"
      ]
     },
     "execution_count": 7,
     "metadata": {},
     "output_type": "execute_result"
    }
   ],
   "source": [
    "bc_card[bc_card.duplicated() == True]"
   ]
  },
  {
   "cell_type": "markdown",
   "metadata": {
    "id": "oKDfvHs7XBbC"
   },
   "source": [
    "## 2. 서울시 거주/비거주 고객의 소비액 구하기\n",
    "* 서울시 거주 고객 수와 소비액\n",
    "    - 남성 고객수, 소비액\n",
    "    - 여성 고객수, 소비액\n",
    "* 서울시 비거주 고개 수와 소비액\n",
    "    - 남성 고객수, 소비액\n",
    "    - 여성 고객수, 소비액"
   ]
  },
  {
   "cell_type": "code",
   "execution_count": 8,
   "metadata": {},
   "outputs": [
    {
     "name": "stdout",
     "output_type": "stream",
     "text": [
      "서울시 거주 고객 수와 소비액\n",
      "  - 남성 : 480,069명, 682,678,945,342원\n",
      "  - 여성 : 421,003명, 703,235,624,289원\n"
     ]
    }
   ],
   "source": [
    "seoul_card_df = bc_card[bc_card['CSTMR_MEGA_CTY_NM'] == '서울특별시']\n",
    "\n",
    "seoul_m = seoul_card_df[seoul_card_df['SEX_CTGO_CD'] == 1]\n",
    "seoul_w = seoul_card_df[seoul_card_df['SEX_CTGO_CD'] == 2]\n",
    "\n",
    "print('서울시 거주 고객 수와 소비액')\n",
    "print(f\"  - 남성 : {len(seoul_m):,}명, {seoul_m['AMT'].sum(axis=0):,}원\")\n",
    "print(f\"  - 여성 : {len(seoul_w):,}명, {seoul_w['AMT'].sum(axis=0):,}원\")"
   ]
  },
  {
   "cell_type": "code",
   "execution_count": 9,
   "metadata": {},
   "outputs": [
    {
     "name": "stdout",
     "output_type": "stream",
     "text": [
      "서울시 거주 고객 수와 소비액\n",
      "  - 남성 : 480,069명, 682,678,945,342원\n",
      "  - 여성 : 421,003명, 703,235,624,289원\n"
     ]
    }
   ],
   "source": [
    "seoul_sex = pd.pivot_table(seoul_card_df, values=['AMT'], aggfunc='sum', index=['SEX_CTGO_CD'])\n",
    "\n",
    "seoul_m = seoul_card_df[seoul_card_df['SEX_CTGO_CD'] == 1]\n",
    "seoul_w = seoul_card_df[seoul_card_df['SEX_CTGO_CD'] == 2]\n",
    "\n",
    "print('서울시 거주 고객 수와 소비액')\n",
    "print(f\"  - 남성 : {len(seoul_m):,}명, {seoul_sex.loc[1, 'AMT']:,}원\")\n",
    "print(f\"  - 여성 : {len(seoul_w):,}명, {seoul_sex.loc[2, 'AMT']:,}원\")"
   ]
  },
  {
   "cell_type": "code",
   "execution_count": 17,
   "metadata": {},
   "outputs": [
    {
     "data": {
      "text/html": [
       "<div>\n",
       "<style scoped>\n",
       "    .dataframe tbody tr th:only-of-type {\n",
       "        vertical-align: middle;\n",
       "    }\n",
       "\n",
       "    .dataframe tbody tr th {\n",
       "        vertical-align: top;\n",
       "    }\n",
       "\n",
       "    .dataframe thead tr th {\n",
       "        text-align: left;\n",
       "    }\n",
       "\n",
       "    .dataframe thead tr:last-of-type th {\n",
       "        text-align: right;\n",
       "    }\n",
       "</style>\n",
       "<table border=\"1\" class=\"dataframe\">\n",
       "  <thead>\n",
       "    <tr>\n",
       "      <th></th>\n",
       "      <th>count</th>\n",
       "      <th>sum</th>\n",
       "    </tr>\n",
       "    <tr>\n",
       "      <th></th>\n",
       "      <th>AMT</th>\n",
       "      <th>AMT</th>\n",
       "    </tr>\n",
       "    <tr>\n",
       "      <th>SEX_CTGO_CD</th>\n",
       "      <th></th>\n",
       "      <th></th>\n",
       "    </tr>\n",
       "  </thead>\n",
       "  <tbody>\n",
       "    <tr>\n",
       "      <th>1</th>\n",
       "      <td>480069</td>\n",
       "      <td>682678945342</td>\n",
       "    </tr>\n",
       "    <tr>\n",
       "      <th>2</th>\n",
       "      <td>421003</td>\n",
       "      <td>703235624289</td>\n",
       "    </tr>\n",
       "  </tbody>\n",
       "</table>\n",
       "</div>"
      ],
      "text/plain": [
       "              count           sum\n",
       "                AMT           AMT\n",
       "SEX_CTGO_CD                      \n",
       "1            480069  682678945342\n",
       "2            421003  703235624289"
      ]
     },
     "execution_count": 17,
     "metadata": {},
     "output_type": "execute_result"
    }
   ],
   "source": [
    "seoul_sex = pd.pivot_table(seoul_card_df, values=['AMT'], aggfunc=['count','sum'], index=['SEX_CTGO_CD'])\n",
    "seoul_sex"
   ]
  },
  {
   "cell_type": "code",
   "execution_count": 15,
   "metadata": {
    "colab": {
     "base_uri": "https://localhost:8080/",
     "height": 200
    },
    "executionInfo": {
     "elapsed": 9,
     "status": "ok",
     "timestamp": 1684657430838,
     "user": {
      "displayName": "꾬은주",
      "userId": "05623544279730996499"
     },
     "user_tz": -540
    },
    "id": "I8bJAzlkXaRQ",
    "outputId": "10f17428-09e0-4eaa-e13d-43ba60dfd110"
   },
   "outputs": [
    {
     "name": "stdout",
     "output_type": "stream",
     "text": [
      "서울시 비거주 고객 수와 소비액\n",
      "  - 남성 : 385,870명, 1,015,425,463,575원\n",
      "  - 여성 : 302,552명, 925,473,886,325원\n"
     ]
    }
   ],
   "source": [
    "nonseoul_card_df = bc_card[bc_card['CSTMR_MEGA_CTY_NM'] != '서울특별시']\n",
    "\n",
    "nonseoul_m = nonseoul_card_df[nonseoul_card_df['SEX_CTGO_CD'] == 1]\n",
    "nonseoul_w = nonseoul_card_df[nonseoul_card_df['SEX_CTGO_CD'] == 2]\n",
    "\n",
    "print('서울시 비거주 고객 수와 소비액')\n",
    "print(f\"  - 남성 : {len(nonseoul_m):,}명, {nonseoul_m['AMT'].sum(axis=0):,}원\")\n",
    "print(f\"  - 여성 : {len(nonseoul_w):,}명, {nonseoul_w['AMT'].sum(axis=0):,}원\")"
   ]
  },
  {
   "cell_type": "code",
   "execution_count": 16,
   "metadata": {},
   "outputs": [
    {
     "name": "stdout",
     "output_type": "stream",
     "text": [
      "서울시 비거주 고객 수와 소비액\n",
      "  - 남성 : 385,870명, 1,015,425,463,575원\n",
      "  - 여성 : 302,552명, 925,473,886,325원\n"
     ]
    }
   ],
   "source": [
    "nonseoul_sex = pd.pivot_table(nonseoul_card_df, values=['AMT'], aggfunc='sum', index=['SEX_CTGO_CD'])\n",
    "\n",
    "nonseoul_m = nonseoul_card_df[nonseoul_card_df['SEX_CTGO_CD'] == 1]\n",
    "nonseoul_w = nonseoul_card_df[nonseoul_card_df['SEX_CTGO_CD'] == 2]\n",
    "\n",
    "print('서울시 비거주 고객 수와 소비액')\n",
    "print(f\"  - 남성 : {len(nonseoul_m):,}명, {nonseoul_sex.loc[1, 'AMT']:,}원\")\n",
    "print(f\"  - 여성 : {len(nonseoul_w):,}명, {nonseoul_sex.loc[2, 'AMT']:,}원\")"
   ]
  },
  {
   "cell_type": "code",
   "execution_count": 18,
   "metadata": {},
   "outputs": [
    {
     "data": {
      "text/html": [
       "<div>\n",
       "<style scoped>\n",
       "    .dataframe tbody tr th:only-of-type {\n",
       "        vertical-align: middle;\n",
       "    }\n",
       "\n",
       "    .dataframe tbody tr th {\n",
       "        vertical-align: top;\n",
       "    }\n",
       "\n",
       "    .dataframe thead tr th {\n",
       "        text-align: left;\n",
       "    }\n",
       "\n",
       "    .dataframe thead tr:last-of-type th {\n",
       "        text-align: right;\n",
       "    }\n",
       "</style>\n",
       "<table border=\"1\" class=\"dataframe\">\n",
       "  <thead>\n",
       "    <tr>\n",
       "      <th></th>\n",
       "      <th>count</th>\n",
       "      <th>sum</th>\n",
       "    </tr>\n",
       "    <tr>\n",
       "      <th></th>\n",
       "      <th>AMT</th>\n",
       "      <th>AMT</th>\n",
       "    </tr>\n",
       "    <tr>\n",
       "      <th>SEX_CTGO_CD</th>\n",
       "      <th></th>\n",
       "      <th></th>\n",
       "    </tr>\n",
       "  </thead>\n",
       "  <tbody>\n",
       "    <tr>\n",
       "      <th>1</th>\n",
       "      <td>385870</td>\n",
       "      <td>1015425463575</td>\n",
       "    </tr>\n",
       "    <tr>\n",
       "      <th>2</th>\n",
       "      <td>302552</td>\n",
       "      <td>925473886325</td>\n",
       "    </tr>\n",
       "  </tbody>\n",
       "</table>\n",
       "</div>"
      ],
      "text/plain": [
       "              count            sum\n",
       "                AMT            AMT\n",
       "SEX_CTGO_CD                       \n",
       "1            385870  1015425463575\n",
       "2            302552   925473886325"
      ]
     },
     "execution_count": 18,
     "metadata": {},
     "output_type": "execute_result"
    }
   ],
   "source": [
    "nonseoul_sex = pd.pivot_table(nonseoul_card_df, values=['AMT'], aggfunc=['count','sum'], index=['SEX_CTGO_CD'])\n",
    "nonseoul_sex"
   ]
  },
  {
   "cell_type": "markdown",
   "metadata": {
    "id": "U7DA55vDaKsw"
   },
   "source": [
    "### 3. 서울시 거주자 편의점 소비 건수와 소비액 구하기"
   ]
  },
  {
   "cell_type": "code",
   "execution_count": 12,
   "metadata": {
    "colab": {
     "base_uri": "https://localhost:8080/"
    },
    "executionInfo": {
     "elapsed": 3,
     "status": "ok",
     "timestamp": 1684657434267,
     "user": {
      "displayName": "꾬은주",
      "userId": "05623544279730996499"
     },
     "user_tz": -540
    },
    "id": "rS1bjfdqXkh6",
    "outputId": "6f66bc10-4c60-4776-a8b0-6528140d2e2b"
   },
   "outputs": [
    {
     "name": "stdout",
     "output_type": "stream",
     "text": [
      "서울시 거주자 편의점 소비 건수와 소비액\n",
      " - 소비건수 : 10,113,011건\n",
      " - 소비액 : 66,513,977,146원\n"
     ]
    }
   ],
   "source": [
    "cov_df = bc_card[bc_card['TP_BUZ_NO'] == 4010]\n",
    "seoul_cov = cov_df[cov_df['CSTMR_MEGA_CTY_NM'] == '서울특별시']\n",
    "print(\"서울시 거주자 편의점 소비 건수와 소비액\")\n",
    "print(f\" - 소비건수 : {seoul_cov['CNT'].sum(axis=0):,}건\")\n",
    "print(f\" - 소비액 : {seoul_cov['AMT'].sum(axis=0):,}원\")"
   ]
  },
  {
   "cell_type": "code",
   "execution_count": 13,
   "metadata": {
    "scrolled": true
   },
   "outputs": [
    {
     "name": "stdout",
     "output_type": "stream",
     "text": [
      "서울시 거주자 편의점 소비 건수와 소비액\n",
      " - 소비건수 : 10,113,011건\n",
      " - 소비액 : 66,513,977,146원\n"
     ]
    }
   ],
   "source": [
    "seoul_cov2 = pd.pivot_table(seoul_cov, values=['CNT','AMT'], aggfunc='sum', index=['TP_BUZ_NO'])\n",
    "print(\"서울시 거주자 편의점 소비 건수와 소비액\")\n",
    "print(f\" - 소비건수 : {seoul_cov2.loc[4010, 'CNT']:,}건\")\n",
    "print(f\" - 소비액 : {seoul_cov2.loc[4010, 'AMT']:,}원\")"
   ]
  },
  {
   "cell_type": "markdown",
   "metadata": {},
   "source": [
    "### 4. 강남구 거주자의 강남구 내 소비액과 강남구 외 소비액 구하기"
   ]
  },
  {
   "cell_type": "code",
   "execution_count": 14,
   "metadata": {
    "colab": {
     "base_uri": "https://localhost:8080/"
    },
    "executionInfo": {
     "elapsed": 4,
     "status": "ok",
     "timestamp": 1684657478059,
     "user": {
      "displayName": "꾬은주",
      "userId": "05623544279730996499"
     },
     "user_tz": -540
    },
    "id": "M2LFGBsyaPGZ",
    "outputId": "e0a9e1e7-1feb-4522-9b56-b6824ab7806c"
   },
   "outputs": [
    {
     "name": "stdout",
     "output_type": "stream",
     "text": [
      "강남구 거주자의\n",
      "강남구 내 소비액 : 46,387,952,763원\n",
      "강남구 외 소비액 : 62,203,324,642원\n"
     ]
    }
   ],
   "source": [
    "gangnam = bc_card[bc_card['CSTMR_CTY_RGN_NM'] == '강남구']\n",
    "gangnam_gn = gangnam[gangnam['CTY_RGN_NM'] == '강남구']\n",
    "gangnam_ex = gangnam[gangnam['CTY_RGN_NM'] != '강남구']\n",
    "print(\"강남구 거주자의\")\n",
    "print(f\"강남구 내 소비액 : {gangnam_gn['AMT'].sum(axis=0):,}원\")\n",
    "print(f\"강남구 외 소비액 : {gangnam_ex['AMT'].sum(axis=0):,}원\")"
   ]
  },
  {
   "cell_type": "code",
   "execution_count": 20,
   "metadata": {},
   "outputs": [
    {
     "name": "stdout",
     "output_type": "stream",
     "text": [
      "강남구 거주자의\n",
      "강남구 내 소비액 : 46,387,952,763원\n",
      "강남구 외 소비액 : 62,203,324,642원\n"
     ]
    }
   ],
   "source": [
    "gangnam_gn = bc_card[(bc_card['CSTMR_CTY_RGN_NM'] == '강남구') & (bc_card['CTY_RGN_NM'] == '강남구')]\n",
    "gangnam_ex = bc_card[(bc_card['CSTMR_CTY_RGN_NM'] == '강남구') & (bc_card['CTY_RGN_NM'] != '강남구')]\n",
    "print(\"강남구 거주자의\")\n",
    "print(f\"강남구 내 소비액 : {gangnam_gn['AMT'].sum(axis=0):,}원\")\n",
    "print(f\"강남구 외 소비액 : {gangnam_ex['AMT'].sum(axis=0):,}원\")"
   ]
  }
 ],
 "metadata": {
  "colab": {
   "authorship_tag": "ABX9TyOQfjTVF9B5ikuhplpIiOVY",
   "mount_file_id": "1ZQJ7IDg6rMW7lk-Q6ldgP8ZcrUnOT0S0",
   "provenance": []
  },
  "kernelspec": {
   "display_name": "Python 3 (ipykernel)",
   "language": "python",
   "name": "python3"
  },
  "language_info": {
   "codemirror_mode": {
    "name": "ipython",
    "version": 3
   },
   "file_extension": ".py",
   "mimetype": "text/x-python",
   "name": "python",
   "nbconvert_exporter": "python",
   "pygments_lexer": "ipython3",
   "version": "3.10.9"
  }
 },
 "nbformat": 4,
 "nbformat_minor": 1
}

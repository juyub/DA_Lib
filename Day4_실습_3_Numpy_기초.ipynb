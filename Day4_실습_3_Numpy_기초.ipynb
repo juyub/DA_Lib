{
 "cells": [
  {
   "cell_type": "markdown",
   "metadata": {
    "id": "B-2yFe33epd3"
   },
   "source": [
    "# 1. 넘파이(Numpy) 소개\n",
    "\n",
    "- 수치 데이터를 다루기 위한 라이브러리\n",
    "- 배열 계산에 최적화된 방식과 빠른 처리 속도\n",
    "- import하여 사용"
   ]
  },
  {
   "cell_type": "code",
   "execution_count": 1,
   "metadata": {
    "colab": {
     "base_uri": "https://localhost:8080/"
    },
    "executionInfo": {
     "elapsed": 500,
     "status": "ok",
     "timestamp": 1684574806921,
     "user": {
      "displayName": "꾬은주",
      "userId": "05623544279730996499"
     },
     "user_tz": -540
    },
    "id": "gZI5GX_MegxU",
    "outputId": "f3808697-1bde-4900-faef-8eb51393686d"
   },
   "outputs": [
    {
     "name": "stdout",
     "output_type": "stream",
     "text": [
      "1.23.5\n"
     ]
    }
   ],
   "source": [
    "# 넘파이 import하기\n",
    "import numpy as np\n",
    "\n",
    "# 버전 확인\n",
    "print(np.__version__)"
   ]
  },
  {
   "cell_type": "markdown",
   "metadata": {
    "id": "Sw8cBzEqe-Us"
   },
   "source": [
    "# 2. 넘파이 배열 : ndarray\n",
    "- n-dimenstion array (n 차원 배열)\n",
    "- 공백으로 요소 구분 (리스트는 쉽표로 구분)\n",
    "- 한 가지 데이터형만 사용 가능 (리스트는 서로 다른 데이터형 사용 가능)\n",
    "\n",
    "## [참고] 파이썬에서 데이터 분석을 할 때 주로 사용하는 데이터형\n",
    "- 리스트 : 다양한 값을 연속으로 저장\n",
    "- 데이터프레임 : 데이터 전처리에 주로 사용\n",
    "- 넘파이 배열 : 데이터 분석 처리에 주로 사용"
   ]
  },
  {
   "cell_type": "markdown",
   "metadata": {
    "id": "I_dTqLtzfng1"
   },
   "source": [
    "## 2-1. 넘파이 배열 생성 : numpy.array\n",
    "* *ndarray* = *numpy*.**array**(*data*)\n",
    "\n",
    "### 2-1-1. 리스트로 생성\n",
    "* *data* : list형 데이터, list 변수 "
   ]
  },
  {
   "cell_type": "code",
   "execution_count": 5,
   "metadata": {
    "colab": {
     "base_uri": "https://localhost:8080/"
    },
    "executionInfo": {
     "elapsed": 4,
     "status": "ok",
     "timestamp": 1684575014719,
     "user": {
      "displayName": "꾬은주",
      "userId": "05623544279730996499"
     },
     "user_tz": -540
    },
    "id": "ZDFwzG1KfrCi",
    "outputId": "408385ec-e7aa-4108-d542-47fb44da291d"
   },
   "outputs": [
    {
     "name": "stdout",
     "output_type": "stream",
     "text": [
      "[1 2 3]\n",
      "<class 'numpy.ndarray'>\n"
     ]
    }
   ],
   "source": [
    "#1차원 배열\n",
    "# npa = np.array([1,2,3])\n",
    "ll = [1,2,3]\n",
    "npa = np.array(ll)\n",
    "print(npa)\n",
    "print(type(npa))"
   ]
  },
  {
   "cell_type": "code",
   "execution_count": 7,
   "metadata": {
    "colab": {
     "base_uri": "https://localhost:8080/"
    },
    "executionInfo": {
     "elapsed": 324,
     "status": "ok",
     "timestamp": 1684575023889,
     "user": {
      "displayName": "꾬은주",
      "userId": "05623544279730996499"
     },
     "user_tz": -540
    },
    "id": "NJrozJG1ftWg",
    "outputId": "42cb794a-4a5a-4e2d-ef41-880e5694a465"
   },
   "outputs": [
    {
     "name": "stdout",
     "output_type": "stream",
     "text": [
      "[[1 2 3]\n",
      " [4 5 6]]\n",
      "<class 'numpy.ndarray'>\n"
     ]
    }
   ],
   "source": [
    "#2차원 배열\n",
    "ll2 = [[1,2,3],[4,5,6]]\n",
    "npa2 = np.array(ll2)\n",
    "print(npa2)\n",
    "print(type(npa2))"
   ]
  },
  {
   "cell_type": "markdown",
   "metadata": {
    "id": "c8C7OSdvfv1s"
   },
   "source": [
    "### 2-1-2. 데이터프레임으로 생성\n",
    "* *data* : DataFrame"
   ]
  },
  {
   "cell_type": "code",
   "execution_count": 10,
   "metadata": {
    "colab": {
     "base_uri": "https://localhost:8080/"
    },
    "executionInfo": {
     "elapsed": 1730,
     "status": "ok",
     "timestamp": 1684575045481,
     "user": {
      "displayName": "꾬은주",
      "userId": "05623544279730996499"
     },
     "user_tz": -540
    },
    "id": "tLBluX19fxvl",
    "outputId": "2ac6d76f-5d0c-4d73-a362-ced3ac9910a0"
   },
   "outputs": [
    {
     "name": "stdout",
     "output_type": "stream",
     "text": [
      "   0\n",
      "0  1\n",
      "1  2\n",
      "2  3\n",
      "[[1]\n",
      " [2]\n",
      " [3]]\n"
     ]
    }
   ],
   "source": [
    "import pandas as pd\n",
    "mypd1 = pd.DataFrame([1, 2, 3])\n",
    "print(mypd1)\n",
    "npa = np.array(mypd1)\n",
    "print(npa)"
   ]
  },
  {
   "cell_type": "code",
   "execution_count": 9,
   "metadata": {
    "colab": {
     "base_uri": "https://localhost:8080/",
     "height": 167
    },
    "executionInfo": {
     "elapsed": 19,
     "status": "ok",
     "timestamp": 1684575053485,
     "user": {
      "displayName": "꾬은주",
      "userId": "05623544279730996499"
     },
     "user_tz": -540
    },
    "id": "qV7DunRvf04E",
    "outputId": "e501d5b1-f9a8-426d-ffcf-7fd0b77206fe"
   },
   "outputs": [
    {
     "name": "stdout",
     "output_type": "stream",
     "text": [
      "<class 'list'>\n",
      "<class 'pandas.core.frame.DataFrame'>\n",
      "[[1 2 3]\n",
      " [4 5 6]]\n"
     ]
    }
   ],
   "source": [
    "mylist2=[[1, 2, 3],\n",
    " [4, 5, 6]]\n",
    "print(type(mylist2))\n",
    "mypd2=pd.DataFrame(mylist2)\n",
    "print(type(mypd2))\n",
    "npa = np.array(mypd2)\n",
    "print(npa)"
   ]
  },
  {
   "cell_type": "markdown",
   "metadata": {},
   "source": [
    "## 2-2. 넘파이 배열의 속성\n",
    "* **dtype** : 데이터형 표시\n",
    "* **shape** : 배열이 몇 행 몇 열인지 표시\n",
    "* **ndim** : 배열의 차원 표시\n",
    "* **size** : 배열의 원소수 표시\n",
    "* **nbytes** : 배열의 byte 표시\n",
    "\n",
    "* **T** : 배열의 행/열 방향 변경\n",
    "* **flat** = *value* : 배열의 값 초기화"
   ]
  },
  {
   "cell_type": "code",
   "execution_count": 12,
   "metadata": {
    "colab": {
     "base_uri": "https://localhost:8080/"
    },
    "executionInfo": {
     "elapsed": 324,
     "status": "ok",
     "timestamp": 1684574848451,
     "user": {
      "displayName": "꾬은주",
      "userId": "05623544279730996499"
     },
     "user_tz": -540
    },
    "id": "NqGNpaStfCso",
    "outputId": "be310643-2cf7-41eb-c04a-fcdbc4d7f70b",
    "scrolled": true
   },
   "outputs": [
    {
     "name": "stdout",
     "output_type": "stream",
     "text": [
      "[[ 0  1  2  3]\n",
      " [ 4  5  6  7]\n",
      " [ 8  9 10 11]]\n"
     ]
    }
   ],
   "source": [
    "mylist = [[ 0,  1,  2,  3],\n",
    "          [ 4,  5,  6,  7],\n",
    "          [ 8,  9, 10, 11]]\n",
    "npa = np.array(mylist)\n",
    "print(npa)"
   ]
  },
  {
   "cell_type": "code",
   "execution_count": 13,
   "metadata": {
    "colab": {
     "base_uri": "https://localhost:8080/"
    },
    "executionInfo": {
     "elapsed": 4,
     "status": "ok",
     "timestamp": 1684574881769,
     "user": {
      "displayName": "꾬은주",
      "userId": "05623544279730996499"
     },
     "user_tz": -540
    },
    "id": "Tf00pbPVfK0A",
    "outputId": "46471ef0-f214-47aa-932b-77c3d363c81c"
   },
   "outputs": [
    {
     "data": {
      "text/plain": [
       "dtype('int32')"
      ]
     },
     "execution_count": 13,
     "metadata": {},
     "output_type": "execute_result"
    }
   ],
   "source": [
    "npa.dtype"
   ]
  },
  {
   "cell_type": "code",
   "execution_count": 14,
   "metadata": {},
   "outputs": [
    {
     "data": {
      "text/plain": [
       "(3, 4)"
      ]
     },
     "execution_count": 14,
     "metadata": {},
     "output_type": "execute_result"
    }
   ],
   "source": [
    "npa.shape"
   ]
  },
  {
   "cell_type": "code",
   "execution_count": 15,
   "metadata": {
    "colab": {
     "base_uri": "https://localhost:8080/"
    },
    "executionInfo": {
     "elapsed": 6,
     "status": "ok",
     "timestamp": 1684574898234,
     "user": {
      "displayName": "꾬은주",
      "userId": "05623544279730996499"
     },
     "user_tz": -540
    },
    "id": "jkz-K1bOfO0w",
    "outputId": "6c49a979-88cd-4415-ecf9-b4c93690a99d"
   },
   "outputs": [
    {
     "data": {
      "text/plain": [
       "2"
      ]
     },
     "execution_count": 15,
     "metadata": {},
     "output_type": "execute_result"
    }
   ],
   "source": [
    "npa.ndim\n",
    "# 배열의 차원수 \n",
    "# 2차원"
   ]
  },
  {
   "cell_type": "code",
   "execution_count": 16,
   "metadata": {
    "colab": {
     "base_uri": "https://localhost:8080/"
    },
    "executionInfo": {
     "elapsed": 315,
     "status": "ok",
     "timestamp": 1684574947199,
     "user": {
      "displayName": "꾬은주",
      "userId": "05623544279730996499"
     },
     "user_tz": -540
    },
    "id": "pvwnLzCofa7O",
    "outputId": "7b7aa842-1e67-4965-d5e0-a04fcdb901df"
   },
   "outputs": [
    {
     "data": {
      "text/plain": [
       "12"
      ]
     },
     "execution_count": 16,
     "metadata": {},
     "output_type": "execute_result"
    }
   ],
   "source": [
    "npa.size\n",
    "# 배열의 원소의 수"
   ]
  },
  {
   "cell_type": "code",
   "execution_count": 17,
   "metadata": {
    "colab": {
     "base_uri": "https://localhost:8080/"
    },
    "executionInfo": {
     "elapsed": 8,
     "status": "ok",
     "timestamp": 1684574965756,
     "user": {
      "displayName": "꾬은주",
      "userId": "05623544279730996499"
     },
     "user_tz": -540
    },
    "id": "7r6DQZPXffjx",
    "outputId": "0322e6f5-4ffa-4d28-b0a9-0336ee32b84e"
   },
   "outputs": [
    {
     "data": {
      "text/plain": [
       "48"
      ]
     },
     "execution_count": 17,
     "metadata": {},
     "output_type": "execute_result"
    }
   ],
   "source": [
    "npa.nbytes"
   ]
  },
  {
   "cell_type": "code",
   "execution_count": 19,
   "metadata": {
    "colab": {
     "base_uri": "https://localhost:8080/"
    },
    "executionInfo": {
     "elapsed": 325,
     "status": "ok",
     "timestamp": 1684574915100,
     "user": {
      "displayName": "꾬은주",
      "userId": "05623544279730996499"
     },
     "user_tz": -540
    },
    "id": "9coN-2qIfTE6",
    "outputId": "4a4c1fbf-211d-407f-d37f-b426bf6ecc50"
   },
   "outputs": [
    {
     "name": "stdout",
     "output_type": "stream",
     "text": [
      "[[ 0  4  8]\n",
      " [ 1  5  9]\n",
      " [ 2  6 10]\n",
      " [ 3  7 11]]\n"
     ]
    }
   ],
   "source": [
    "print(npa.T)"
   ]
  },
  {
   "cell_type": "code",
   "execution_count": 20,
   "metadata": {
    "colab": {
     "base_uri": "https://localhost:8080/"
    },
    "executionInfo": {
     "elapsed": 5,
     "status": "ok",
     "timestamp": 1684574988671,
     "user": {
      "displayName": "꾬은주",
      "userId": "05623544279730996499"
     },
     "user_tz": -540
    },
    "id": "3DjQiXwLfkB9",
    "outputId": "ffa125a1-b4bc-40f3-cd5d-561e87dfe452",
    "scrolled": true
   },
   "outputs": [
    {
     "name": "stdout",
     "output_type": "stream",
     "text": [
      "[[-1 -1 -1 -1]\n",
      " [-1 -1 -1 -1]\n",
      " [-1 -1 -1 -1]]\n"
     ]
    }
   ],
   "source": [
    "npa.flat = -1\n",
    "print(npa)"
   ]
  },
  {
   "cell_type": "markdown",
   "metadata": {
    "id": "y5GgQzZVf3rQ"
   },
   "source": [
    "## 2-3. Arange 활용 n차원 넘파이 배열 생성\n",
    "\n",
    "* **arange**() : 특성 수열을 만들어 넘파일 배열을 생성\n",
    "* *numpy*.*ndarray* = *numpy*.**arange**(시작값, 종료값, 증가값)\n",
    "  - 시작값부터 종료값보다 작은 수 (즉, 종료값-1)까지 증가값만큼 커지는 배열 생성\n",
    "  - 시작값은 생략시 0, 증가값은 생략 시 1"
   ]
  },
  {
   "cell_type": "markdown",
   "metadata": {},
   "source": [
    "### 2-3-1. 1차원 넘파이 배열 생성"
   ]
  },
  {
   "cell_type": "code",
   "execution_count": 21,
   "metadata": {
    "colab": {
     "base_uri": "https://localhost:8080/"
    },
    "executionInfo": {
     "elapsed": 329,
     "status": "ok",
     "timestamp": 1684575101824,
     "user": {
      "displayName": "꾬은주",
      "userId": "05623544279730996499"
     },
     "user_tz": -540
    },
    "id": "oCMxZoZ_f_98",
    "outputId": "6d56d1a8-df9e-49df-e7eb-fafb8609fff2"
   },
   "outputs": [
    {
     "name": "stdout",
     "output_type": "stream",
     "text": [
      "[0 1 2 3]\n"
     ]
    }
   ],
   "source": [
    "# 0 ~ 3 숫자로 1차원 배열 생성\n",
    "npa = np.arange(4)\n",
    "print(npa)"
   ]
  },
  {
   "cell_type": "code",
   "execution_count": 22,
   "metadata": {
    "colab": {
     "base_uri": "https://localhost:8080/"
    },
    "executionInfo": {
     "elapsed": 3,
     "status": "ok",
     "timestamp": 1684575138327,
     "user": {
      "displayName": "꾬은주",
      "userId": "05623544279730996499"
     },
     "user_tz": -540
    },
    "id": "IASB3ak5gJf-",
    "outputId": "da09f8e5-20ba-40cc-a588-26a6828fa97e"
   },
   "outputs": [
    {
     "name": "stdout",
     "output_type": "stream",
     "text": [
      "[2 3 4 5]\n"
     ]
    }
   ],
   "source": [
    "# 2 ~ 5 숫자로 1차원 배열 생성\n",
    "npa = np.arange(2, 6)\n",
    "print(npa)"
   ]
  },
  {
   "cell_type": "code",
   "execution_count": 23,
   "metadata": {
    "colab": {
     "base_uri": "https://localhost:8080/"
    },
    "executionInfo": {
     "elapsed": 4,
     "status": "ok",
     "timestamp": 1684575154245,
     "user": {
      "displayName": "꾬은주",
      "userId": "05623544279730996499"
     },
     "user_tz": -540
    },
    "id": "6wHHwh6hgNpY",
    "outputId": "4b3923a6-28ac-491c-86ea-6bb8e38cf95c"
   },
   "outputs": [
    {
     "name": "stdout",
     "output_type": "stream",
     "text": [
      "[ 0  2  4  6  8 10]\n"
     ]
    }
   ],
   "source": [
    "# 0 ~ 10 중 짝수로 1차원 배열 생성\n",
    "npa = np.arange(0, 11, 2)\n",
    "print(npa)"
   ]
  },
  {
   "cell_type": "markdown",
   "metadata": {
    "id": "bt8-KemZgPlz"
   },
   "source": [
    "### 2-3-2. 2차원 넘파이 배열 생성\n",
    "\n",
    "* 데이터를 2차원 리스트로 구성하여 np.array 적용\n",
    "* np.arange로 각 행을 생성하여 np.array 적용"
   ]
  },
  {
   "cell_type": "markdown",
   "metadata": {},
   "source": [
    "* 다음의 array를 arange 사용하여 생성하고, shape 확인  \n",
    "[[0 1 2]  \n",
    " [3 4 5]]  \n"
   ]
  },
  {
   "cell_type": "code",
   "execution_count": 24,
   "metadata": {
    "colab": {
     "base_uri": "https://localhost:8080/"
    },
    "executionInfo": {
     "elapsed": 320,
     "status": "ok",
     "timestamp": 1684575198459,
     "user": {
      "displayName": "꾬은주",
      "userId": "05623544279730996499"
     },
     "user_tz": -540
    },
    "id": "uO7Ro6CIgYOP",
    "outputId": "4640c30f-efa3-4307-e444-a47bfba3de1d"
   },
   "outputs": [
    {
     "name": "stdout",
     "output_type": "stream",
     "text": [
      "[[0 1 2]\n",
      " [3 4 5]]\n"
     ]
    }
   ],
   "source": [
    "npa2 = np.array([np.arange(3), np.arange(3,6)])\n",
    "print(npa2)"
   ]
  },
  {
   "cell_type": "markdown",
   "metadata": {},
   "source": [
    "* 다음의 array를 arange 사용하여 생성하고, shape 확인   \n",
    "[[0 3]  \n",
    " [1 4]  \n",
    " [2 5]] \n"
   ]
  },
  {
   "cell_type": "code",
   "execution_count": 25,
   "metadata": {
    "colab": {
     "base_uri": "https://localhost:8080/"
    },
    "executionInfo": {
     "elapsed": 359,
     "status": "ok",
     "timestamp": 1684575228120,
     "user": {
      "displayName": "꾬은주",
      "userId": "05623544279730996499"
     },
     "user_tz": -540
    },
    "id": "gRmFB_mpgfTH",
    "outputId": "d4ab188a-70bd-4335-9689-1d1f3d518489"
   },
   "outputs": [
    {
     "name": "stdout",
     "output_type": "stream",
     "text": [
      "[[0 3]\n",
      " [1 4]\n",
      " [2 5]]\n"
     ]
    }
   ],
   "source": [
    "npa2 = np.array([np.arange(0,4,3),np.arange(1,5,3),np.arange(2,6,3)])\n",
    "print(npa2)"
   ]
  },
  {
   "cell_type": "code",
   "execution_count": 27,
   "metadata": {},
   "outputs": [
    {
     "name": "stdout",
     "output_type": "stream",
     "text": [
      "[[0 3]\n",
      " [1 4]\n",
      " [2 5]]\n"
     ]
    }
   ],
   "source": [
    "npa2 = np.array([np.arange(3),np.arange(3,6)])\n",
    "npa2 = npa2.T\n",
    "print(npa2)"
   ]
  },
  {
   "cell_type": "markdown",
   "metadata": {
    "id": "6IooSmNDghvh"
   },
   "source": [
    "### 2-3-3. 3차원 넘파이 배열 생성\n",
    "* 3차원 배열은 행과 열로 이루어진 2차원 배열이 여러 개인 형태로, 2차원 배열을 대괄호로 묶어서 표현\n",
    "\n",
    "[[[0 1 2]  \n",
    "  [3 4 5]]  \n",
    "\n",
    " [[0 1 2]  \n",
    "  [3 4 5]]]  "
   ]
  },
  {
   "cell_type": "code",
   "execution_count": 29,
   "metadata": {},
   "outputs": [
    {
     "name": "stdout",
     "output_type": "stream",
     "text": [
      "[[[0 1 2]\n",
      "  [3 4 5]]\n",
      "\n",
      " [[0 1 2]\n",
      "  [3 4 5]]]\n"
     ]
    }
   ],
   "source": [
    "npa2 = np.array([[np.arange(3),np.arange(3,6)],[np.arange(3),np.arange(3,6)]])\n",
    "print(npa2)"
   ]
  },
  {
   "cell_type": "markdown",
   "metadata": {
    "id": "0LDyxG3gh7ca"
   },
   "source": [
    "## 2-4. 배열의 데이터형 변형 : astype\n",
    "* *ndarray* = *array_name*.**astype**(*변경할 데이터형*)\n",
    "\n",
    "* 넘파이의 Data Type\n",
    "  - i - integer\n",
    "  - b - boolean\n",
    "  - u - unsigned integer\n",
    "  - f - float\n",
    "  - c - complex float\n",
    "  - m - timedelta\n",
    "  - M - datetime\n",
    "  - O - object\n",
    "  - S - string\n",
    "  - U - unicode string\n",
    "  - V - fixed chunk of memory for other type ( void )"
   ]
  },
  {
   "cell_type": "code",
   "execution_count": 35,
   "metadata": {
    "colab": {
     "base_uri": "https://localhost:8080/"
    },
    "executionInfo": {
     "elapsed": 343,
     "status": "ok",
     "timestamp": 1684575631957,
     "user": {
      "displayName": "꾬은주",
      "userId": "05623544279730996499"
     },
     "user_tz": -540
    },
    "id": "iOL7Ib2riBVd",
    "outputId": "89a2a550-32d0-422a-cb40-0c20cb32cff0"
   },
   "outputs": [
    {
     "name": "stdout",
     "output_type": "stream",
     "text": [
      "[0 1 2 3 4 5 6 7 8 9]\n",
      "[0. 1. 2. 3. 4. 5. 6. 7. 8. 9.]\n",
      "[b'0' b'1' b'2' b'3' b'4' b'5' b'6' b'7' b'8' b'9']\n",
      "['0' '1' '2' '3' '4' '5' '6' '7' '8' '9']\n"
     ]
    },
    {
     "ename": "ValueError",
     "evalue": "invalid literal for int() with base 10: '0.1'",
     "output_type": "error",
     "traceback": [
      "\u001b[1;31m---------------------------------------------------------------------------\u001b[0m",
      "\u001b[1;31mValueError\u001b[0m                                Traceback (most recent call last)",
      "Cell \u001b[1;32mIn[35], line 12\u001b[0m\n\u001b[0;32m     10\u001b[0m \u001b[38;5;28mprint\u001b[39m(a4)\n\u001b[0;32m     11\u001b[0m a5 \u001b[38;5;241m=\u001b[39m np\u001b[38;5;241m.\u001b[39marray([\u001b[38;5;124m'\u001b[39m\u001b[38;5;124m0.1\u001b[39m\u001b[38;5;124m'\u001b[39m,\u001b[38;5;124m'\u001b[39m\u001b[38;5;124m0.2\u001b[39m\u001b[38;5;124m'\u001b[39m])\n\u001b[1;32m---> 12\u001b[0m a6 \u001b[38;5;241m=\u001b[39m \u001b[43ma5\u001b[49m\u001b[38;5;241;43m.\u001b[39;49m\u001b[43mastype\u001b[49m\u001b[43m(\u001b[49m\u001b[38;5;124;43m'\u001b[39;49m\u001b[38;5;124;43mi\u001b[39;49m\u001b[38;5;124;43m'\u001b[39;49m\u001b[43m)\u001b[49m\n\u001b[0;32m     13\u001b[0m \u001b[38;5;28mprint\u001b[39m(a6)\n",
      "\u001b[1;31mValueError\u001b[0m: invalid literal for int() with base 10: '0.1'"
     ]
    }
   ],
   "source": [
    "# 0부터 9까지의 배열 생성\n",
    "a1 = np.arange(10)\n",
    "print(a1)\n",
    "# 실수형으로 변환한 배열 생성\n",
    "a2 = a1.astype('f')\n",
    "print(a2)\n",
    "a3 = a1.astype('S')\n",
    "print(a3)\n",
    "a4 = a1.astype('U')\n",
    "print(a4)\n",
    "\n",
    "# f -> i 는 오류남\n",
    "a5 = np.array(['0.1','0.2'])\n",
    "a6 = a5.astype('i')\n",
    "print(a6)"
   ]
  },
  {
   "cell_type": "markdown",
   "metadata": {
    "id": "W03RP35YigVE"
   },
   "source": [
    "## 2-5. 배열의 형태 변경"
   ]
  },
  {
   "cell_type": "markdown",
   "metadata": {},
   "source": [
    "### 2-5-1. 배열의 구조 변경하기: reshape 함수\n",
    "* 행과 열의 방향 변경\n",
    "* 차원 변경\n",
    "\n",
    "* *ndarray* = *ndarray*.**reshape**(면 수, 행 수, 열 수)\n",
    "  - 자동으로 맞추고 싶은 수에 -1 사용 가능"
   ]
  },
  {
   "cell_type": "code",
   "execution_count": 37,
   "metadata": {
    "colab": {
     "base_uri": "https://localhost:8080/"
    },
    "executionInfo": {
     "elapsed": 3,
     "status": "ok",
     "timestamp": 1684575778335,
     "user": {
      "displayName": "꾬은주",
      "userId": "05623544279730996499"
     },
     "user_tz": -540
    },
    "id": "KEhl9qWTilzS",
    "outputId": "c97df264-e48c-4f88-c796-d05eb6c6029f"
   },
   "outputs": [
    {
     "name": "stdout",
     "output_type": "stream",
     "text": [
      "[0 1 2 3 4 5] (6,)\n"
     ]
    }
   ],
   "source": [
    "# 0 ~ 5 숫자 배열 생성 (1행 6열 배열)\n",
    "a1 = np.arange(6)\n",
    "print(a1, a1.shape)"
   ]
  },
  {
   "cell_type": "code",
   "execution_count": 38,
   "metadata": {
    "colab": {
     "base_uri": "https://localhost:8080/"
    },
    "executionInfo": {
     "elapsed": 7,
     "status": "ok",
     "timestamp": 1684575787243,
     "user": {
      "displayName": "꾬은주",
      "userId": "05623544279730996499"
     },
     "user_tz": -540
    },
    "id": "cKBCblRFin7Y",
    "outputId": "81c19d62-faff-4a1d-9780-090e46110ad4"
   },
   "outputs": [
    {
     "name": "stdout",
     "output_type": "stream",
     "text": [
      "[[0]\n",
      " [1]\n",
      " [2]\n",
      " [3]\n",
      " [4]\n",
      " [5]] (6, 1)\n"
     ]
    }
   ],
   "source": [
    "# 1행 6열을 6행 1열로 변경\n",
    "a2 = a1.reshape(6,1)\n",
    "print(a2, a2.shape)"
   ]
  },
  {
   "cell_type": "code",
   "execution_count": 39,
   "metadata": {
    "colab": {
     "base_uri": "https://localhost:8080/"
    },
    "executionInfo": {
     "elapsed": 4,
     "status": "ok",
     "timestamp": 1684575811420,
     "user": {
      "displayName": "꾬은주",
      "userId": "05623544279730996499"
     },
     "user_tz": -540
    },
    "id": "JXdCDeIJittq",
    "outputId": "bc1b433f-4334-4a1d-c0ef-4b11c1107dbc"
   },
   "outputs": [
    {
     "name": "stdout",
     "output_type": "stream",
     "text": [
      "[[0 1 2]\n",
      " [3 4 5]] (2, 3)\n"
     ]
    }
   ],
   "source": [
    "# 1행 6열을 2행 3열로 변경\n",
    "a3 = a1.reshape(2,3)\n",
    "print(a3, a3.shape)"
   ]
  },
  {
   "cell_type": "code",
   "execution_count": 42,
   "metadata": {
    "colab": {
     "base_uri": "https://localhost:8080/"
    },
    "executionInfo": {
     "elapsed": 5,
     "status": "ok",
     "timestamp": 1684575819985,
     "user": {
      "displayName": "꾬은주",
      "userId": "05623544279730996499"
     },
     "user_tz": -540
    },
    "id": "2EfLe0N5iv7l",
    "outputId": "5169acbd-ba13-4456-b9fa-b61ed5cd9922"
   },
   "outputs": [
    {
     "name": "stdout",
     "output_type": "stream",
     "text": [
      "[[[ 0  1  2]\n",
      "  [ 3  4  5]]\n",
      "\n",
      " [[ 6  7  8]\n",
      "  [ 9 10 11]]] (2, 2, 3)\n"
     ]
    }
   ],
   "source": [
    "# 0 ~11 수를 2면 2행 3열의 3차원 배열로 생성\n",
    "a4 = np.arange(12).reshape(2,2,3)\n",
    "print(a4, a4.shape)\n",
    "\n",
    "# a4 = np.arange(12)\n",
    "# print(a4, a4.shape)\n",
    "# a5 = a4.reshape(2,2,3)\n",
    "# print(a5,a5.shape)"
   ]
  },
  {
   "cell_type": "code",
   "execution_count": 45,
   "metadata": {
    "colab": {
     "base_uri": "https://localhost:8080/"
    },
    "executionInfo": {
     "elapsed": 398,
     "status": "ok",
     "timestamp": 1684575829462,
     "user": {
      "displayName": "꾬은주",
      "userId": "05623544279730996499"
     },
     "user_tz": -540
    },
    "id": "V3zngNfeiyT8",
    "outputId": "9693c45c-e804-4857-9abc-985c2eb0036c"
   },
   "outputs": [
    {
     "name": "stdout",
     "output_type": "stream",
     "text": [
      "[0 1 2 3 4 5] (6,)\n",
      "[[0 1]\n",
      " [2 3]\n",
      " [4 5]] (3, 2)\n",
      "[[0 1 2]\n",
      " [3 4 5]] (2, 3)\n"
     ]
    }
   ],
   "source": [
    "m1=np.arange(6)\n",
    "print(m1, m1.shape)\n",
    "# 행 수는 자동, 2열 생성\n",
    "m2 = m1.reshape(-1,2)\n",
    "print(m2, m2.shape)\n",
    "# 행 수는 자동, 3열 생성\n",
    "m3 = m1.reshape(-1,3)\n",
    "print(m3, m3.shape)"
   ]
  },
  {
   "cell_type": "code",
   "execution_count": 48,
   "metadata": {
    "colab": {
     "base_uri": "https://localhost:8080/"
    },
    "executionInfo": {
     "elapsed": 312,
     "status": "ok",
     "timestamp": 1684575840576,
     "user": {
      "displayName": "꾬은주",
      "userId": "05623544279730996499"
     },
     "user_tz": -540
    },
    "id": "TSz2bQe-i1MG",
    "outputId": "5d2a2054-c383-4187-eda8-85614e591e72"
   },
   "outputs": [
    {
     "name": "stdout",
     "output_type": "stream",
     "text": [
      "[[[ 0  1]\n",
      "  [ 2  3]\n",
      "  [ 4  5]]\n",
      "\n",
      " [[ 6  7]\n",
      "  [ 8  9]\n",
      "  [10 11]]] (2, 3, 2)\n",
      "[[[ 0  1]\n",
      "  [ 2  3]\n",
      "  [ 4  5]]\n",
      "\n",
      " [[ 6  7]\n",
      "  [ 8  9]\n",
      "  [10 11]]] (2, 3, 2)\n"
     ]
    }
   ],
   "source": [
    "m1=np.arange(12)\n",
    "# 면 수 자동, 3행 2열 생성\n",
    "m2 = m1.reshape(-1,3,2)\n",
    "print(m2, m2.shape)\n",
    "# 열 수 자동, 2면 3행 생성\n",
    "m3 = m1.reshape(2,3,-1)\n",
    "print(m3, m3.shape)"
   ]
  },
  {
   "cell_type": "markdown",
   "metadata": {
    "id": "e28WHrdzi345"
   },
   "source": [
    "### 2-5-2. 다차원 배열을 1차원 배열로 평탄화하기: flatten 함수\n",
    "\n",
    "* *new_ndarray* = *ndarray*.**flatten**()"
   ]
  },
  {
   "cell_type": "code",
   "execution_count": 49,
   "metadata": {
    "colab": {
     "base_uri": "https://localhost:8080/"
    },
    "executionInfo": {
     "elapsed": 3,
     "status": "ok",
     "timestamp": 1684575863987,
     "user": {
      "displayName": "꾬은주",
      "userId": "05623544279730996499"
     },
     "user_tz": -540
    },
    "id": "Zv1llna_i6il",
    "outputId": "aa55c644-8418-4b23-82ca-9c75bb975571"
   },
   "outputs": [
    {
     "name": "stdout",
     "output_type": "stream",
     "text": [
      "[[ 0  1  2  3]\n",
      " [ 4  5  6  7]\n",
      " [ 8  9 10 11]]\n"
     ]
    }
   ],
   "source": [
    "# 0 ~ 11까지의 수를 3행 4열 배열로 생성\n",
    "npa = np.arange(12).reshape(3,4)\n",
    "print(npa)"
   ]
  },
  {
   "cell_type": "code",
   "execution_count": 50,
   "metadata": {
    "colab": {
     "base_uri": "https://localhost:8080/"
    },
    "executionInfo": {
     "elapsed": 3,
     "status": "ok",
     "timestamp": 1684575870426,
     "user": {
      "displayName": "꾬은주",
      "userId": "05623544279730996499"
     },
     "user_tz": -540
    },
    "id": "NIltovRPi8lR",
    "outputId": "e6e9c601-bbbb-4c05-fd80-06c4abd6cc55"
   },
   "outputs": [
    {
     "name": "stdout",
     "output_type": "stream",
     "text": [
      "[ 0  1  2  3  4  5  6  7  8  9 10 11]\n"
     ]
    }
   ],
   "source": [
    "# 1차원 배열로 평탄화\n",
    "npa2 = npa.flatten()\n",
    "print(npa2)"
   ]
  },
  {
   "cell_type": "markdown",
   "metadata": {
    "id": "cqfmK5N_i-gn"
   },
   "source": [
    "### 2-5-3. 배열의 방향 변경하기\n",
    "\n",
    "* 순서 뒤집기 : 인덱스 -1\n",
    "* 속성 T\n",
    "* 함수 transpose()"
   ]
  },
  {
   "cell_type": "code",
   "execution_count": 52,
   "metadata": {
    "colab": {
     "base_uri": "https://localhost:8080/"
    },
    "executionInfo": {
     "elapsed": 3,
     "status": "ok",
     "timestamp": 1684575886899,
     "user": {
      "displayName": "꾬은주",
      "userId": "05623544279730996499"
     },
     "user_tz": -540
    },
    "id": "M8-Z6gSwjAr-",
    "outputId": "8b1ec1d4-c7bf-4eea-8972-9ba9e38ff2f6"
   },
   "outputs": [
    {
     "name": "stdout",
     "output_type": "stream",
     "text": [
      "[[ 0  1  2  3]\n",
      " [ 4  5  6  7]\n",
      " [ 8  9 10 11]]\n"
     ]
    }
   ],
   "source": [
    "# 0 ~ 11까지의 수를 3행 4열 배열로 생성\n",
    "a = np.arange(12).reshape(3,4)\n",
    "print(a)"
   ]
  },
  {
   "cell_type": "code",
   "execution_count": 53,
   "metadata": {
    "colab": {
     "base_uri": "https://localhost:8080/"
    },
    "executionInfo": {
     "elapsed": 4,
     "status": "ok",
     "timestamp": 1684575897441,
     "user": {
      "displayName": "꾬은주",
      "userId": "05623544279730996499"
     },
     "user_tz": -540
    },
    "id": "6OONS4GRjCdD",
    "outputId": "32dfd20b-eca3-443b-a116-30320e2de0c9"
   },
   "outputs": [
    {
     "name": "stdout",
     "output_type": "stream",
     "text": [
      "[[ 8  9 10 11]\n",
      " [ 4  5  6  7]\n",
      " [ 0  1  2  3]]\n"
     ]
    }
   ],
   "source": [
    "# 행 순서를 거꾸로 변경\n",
    "print(a[::-1])"
   ]
  },
  {
   "cell_type": "code",
   "execution_count": 54,
   "metadata": {
    "colab": {
     "base_uri": "https://localhost:8080/"
    },
    "executionInfo": {
     "elapsed": 3,
     "status": "ok",
     "timestamp": 1684575913900,
     "user": {
      "displayName": "꾬은주",
      "userId": "05623544279730996499"
     },
     "user_tz": -540
    },
    "id": "jy0vx6pMjHRY",
    "outputId": "e72a7247-29b4-4f3b-87b3-e095d892ffb1"
   },
   "outputs": [
    {
     "name": "stdout",
     "output_type": "stream",
     "text": [
      "[[ 3  2  1  0]\n",
      " [ 7  6  5  4]\n",
      " [11 10  9  8]]\n"
     ]
    }
   ],
   "source": [
    "# 열 순서를 거꾸로 변경\n",
    "print(a[:,::-1])"
   ]
  },
  {
   "cell_type": "code",
   "execution_count": 55,
   "metadata": {
    "colab": {
     "base_uri": "https://localhost:8080/"
    },
    "executionInfo": {
     "elapsed": 3,
     "status": "ok",
     "timestamp": 1684575933459,
     "user": {
      "displayName": "꾬은주",
      "userId": "05623544279730996499"
     },
     "user_tz": -540
    },
    "id": "hicm6fQEjMBg",
    "outputId": "2db6ca97-0904-4158-d555-49b3cb86bcbc"
   },
   "outputs": [
    {
     "name": "stdout",
     "output_type": "stream",
     "text": [
      "[[11 10  9  8]\n",
      " [ 7  6  5  4]\n",
      " [ 3  2  1  0]]\n"
     ]
    }
   ],
   "source": [
    "# 행과 열 순서를 거꾸로 변경\n",
    "print(a[::-1,::-1])"
   ]
  },
  {
   "cell_type": "code",
   "execution_count": 56,
   "metadata": {
    "colab": {
     "base_uri": "https://localhost:8080/"
    },
    "executionInfo": {
     "elapsed": 3,
     "status": "ok",
     "timestamp": 1684575942702,
     "user": {
      "displayName": "꾬은주",
      "userId": "05623544279730996499"
     },
     "user_tz": -540
    },
    "id": "_v2pCAYRjOSi",
    "outputId": "08fd6841-770f-4e78-97ce-8d2ee3ccd107"
   },
   "outputs": [
    {
     "name": "stdout",
     "output_type": "stream",
     "text": [
      "[[ 0  4  8]\n",
      " [ 1  5  9]\n",
      " [ 2  6 10]\n",
      " [ 3  7 11]] (4, 3)\n"
     ]
    }
   ],
   "source": [
    "# transpose() 적용\n",
    "t = a.transpose()\n",
    "print(t, t.shape)"
   ]
  },
  {
   "cell_type": "code",
   "execution_count": 57,
   "metadata": {
    "colab": {
     "base_uri": "https://localhost:8080/"
    },
    "executionInfo": {
     "elapsed": 3,
     "status": "ok",
     "timestamp": 1684575950661,
     "user": {
      "displayName": "꾬은주",
      "userId": "05623544279730996499"
     },
     "user_tz": -540
    },
    "id": "m72LnB5FjQIB",
    "outputId": "1717bd03-8bba-4ab7-d441-1f60f6d998dd"
   },
   "outputs": [
    {
     "name": "stdout",
     "output_type": "stream",
     "text": [
      "[[ 0  4  8]\n",
      " [ 1  5  9]\n",
      " [ 2  6 10]\n",
      " [ 3  7 11]]\n"
     ]
    }
   ],
   "source": [
    "# 속성 T 적용\n",
    "t2 = a.T\n",
    "print(t2)"
   ]
  },
  {
   "cell_type": "markdown",
   "metadata": {
    "id": "TCw6pPATj94A"
   },
   "source": [
    "## 2-6. 배열의 인덱싱과 슬라이싱"
   ]
  },
  {
   "cell_type": "markdown",
   "metadata": {},
   "source": [
    "### 2-6-1. 1차원 배열의 인덱싱과 슬라이싱\n",
    "* indexing : [숫자]\n",
    "* slicing : [시작:끝+1:간격]"
   ]
  },
  {
   "cell_type": "code",
   "execution_count": 1,
   "metadata": {},
   "outputs": [],
   "source": [
    "import numpy as np"
   ]
  },
  {
   "cell_type": "code",
   "execution_count": 2,
   "metadata": {
    "colab": {
     "base_uri": "https://localhost:8080/"
    },
    "executionInfo": {
     "elapsed": 3,
     "status": "ok",
     "timestamp": 1684576168444,
     "user": {
      "displayName": "꾬은주",
      "userId": "05623544279730996499"
     },
     "user_tz": -540
    },
    "id": "Obf1ZLI2kEP4",
    "outputId": "fd093942-a922-4148-ced7-46c0cfddf10e"
   },
   "outputs": [
    {
     "data": {
      "text/plain": [
       "array([0, 1, 2, 3, 4, 5])"
      ]
     },
     "execution_count": 2,
     "metadata": {},
     "output_type": "execute_result"
    }
   ],
   "source": [
    "# 0~5 1차원 배열 생성\n",
    "a = np.arange(6)\n",
    "a"
   ]
  },
  {
   "cell_type": "code",
   "execution_count": 5,
   "metadata": {
    "colab": {
     "base_uri": "https://localhost:8080/"
    },
    "executionInfo": {
     "elapsed": 3,
     "status": "ok",
     "timestamp": 1684576179037,
     "user": {
      "displayName": "꾬은주",
      "userId": "05623544279730996499"
     },
     "user_tz": -540
    },
    "id": "T2BLA4tHkH0P",
    "outputId": "74bbf5c4-6ae5-4dc5-8c60-311bb3c878d1"
   },
   "outputs": [
    {
     "data": {
      "text/plain": [
       "(0, 1, 2, 3, 5, 4)"
      ]
     },
     "execution_count": 5,
     "metadata": {},
     "output_type": "execute_result"
    }
   ],
   "source": [
    "# 1차원 배열의 인덱싱 : 0 1 2 5 4\n",
    "# a[0:3], a[5:3:-1]\n",
    "a[0],a[1],a[2],a[3],a[-1],a[-2]"
   ]
  },
  {
   "cell_type": "code",
   "execution_count": 6,
   "metadata": {
    "colab": {
     "base_uri": "https://localhost:8080/"
    },
    "executionInfo": {
     "elapsed": 4,
     "status": "ok",
     "timestamp": 1684576192710,
     "user": {
      "displayName": "꾬은주",
      "userId": "05623544279730996499"
     },
     "user_tz": -540
    },
    "id": "pDBrTBkbkKBG",
    "outputId": "23dd9250-fa3d-4291-dabd-973d47c30a83"
   },
   "outputs": [
    {
     "data": {
      "text/plain": [
       "(array([2]), array([0, 1, 2, 3, 4, 5]), array([0, 1, 2, 3, 4]))"
      ]
     },
     "execution_count": 6,
     "metadata": {},
     "output_type": "execute_result"
    }
   ],
   "source": [
    "# 1차원 배열의 슬라이싱\n",
    "# [2] [0 1 2 3 4 5] [0 1 2 3 4]\n",
    "a[2:3], a[:], a[:-1]\n",
    "# [0 2 4] [5 4 3 2 1 0]\n",
    "a[::2], a[::-1]\n",
    "# 첫번째 수를 10으로 변경\n"
   ]
  },
  {
   "cell_type": "markdown",
   "metadata": {
    "id": "NXFZ4mlUkNVI"
   },
   "source": [
    "### 2-6-2. 2차원 배열의 인덱싱과 슬라이싱 \n",
    "* indexing : [행][열] 또는 [행, 열]\n",
    "* slicing : [행 slicing, 열 slicing]"
   ]
  },
  {
   "cell_type": "code",
   "execution_count": 10,
   "metadata": {
    "colab": {
     "base_uri": "https://localhost:8080/"
    },
    "executionInfo": {
     "elapsed": 6,
     "status": "ok",
     "timestamp": 1684576214193,
     "user": {
      "displayName": "꾬은주",
      "userId": "05623544279730996499"
     },
     "user_tz": -540
    },
    "id": "QRknWj42kQA6",
    "outputId": "d912be23-6f48-434a-99b0-0d0de07f2f35"
   },
   "outputs": [
    {
     "name": "stdout",
     "output_type": "stream",
     "text": [
      "[[ 0  1  2  3]\n",
      " [ 4  5  6  7]\n",
      " [ 8  9 10 11]] (3, 4)\n"
     ]
    }
   ],
   "source": [
    "# 0~11 숫자로 3행 4열 배열 생성\n",
    "a2 = np.arange(12).reshape(3,4)\n",
    "print(a2, a2.shape)"
   ]
  },
  {
   "cell_type": "code",
   "execution_count": 12,
   "metadata": {
    "colab": {
     "base_uri": "https://localhost:8080/"
    },
    "executionInfo": {
     "elapsed": 4,
     "status": "ok",
     "timestamp": 1684576221786,
     "user": {
      "displayName": "꾬은주",
      "userId": "05623544279730996499"
     },
     "user_tz": -540
    },
    "id": "hc-apYFykSOb",
    "outputId": "a230da6a-bf95-442a-8c91-ef684c34fae1"
   },
   "outputs": [
    {
     "data": {
      "text/plain": [
       "(0, 6, 9)"
      ]
     },
     "execution_count": 12,
     "metadata": {},
     "output_type": "execute_result"
    }
   ],
   "source": [
    "# 2차원 배열의 인덱싱 : 0 9\n",
    "a2[0][0], a2[1,2], a2[-1,1]"
   ]
  },
  {
   "cell_type": "code",
   "execution_count": 17,
   "metadata": {
    "colab": {
     "base_uri": "https://localhost:8080/"
    },
    "executionInfo": {
     "elapsed": 9,
     "status": "ok",
     "timestamp": 1684576232658,
     "user": {
      "displayName": "꾬은주",
      "userId": "05623544279730996499"
     },
     "user_tz": -540
    },
    "id": "n-eJ-a0VkU6X",
    "outputId": "1639adb9-5e47-490b-9b0b-bc53634ecdf6"
   },
   "outputs": [
    {
     "data": {
      "text/plain": [
       "(array([0, 1, 2, 3]),\n",
       " array([0, 1, 2, 3]),\n",
       " array([[ 0,  1,  2],\n",
       "        [ 4,  5,  6],\n",
       "        [ 8,  9, 10]]),\n",
       " array([[ 0,  2],\n",
       "        [ 8, 10]]))"
      ]
     },
     "execution_count": 17,
     "metadata": {},
     "output_type": "execute_result"
    }
   ],
   "source": [
    "# 0행만 슬라이싱\n",
    "# 0행의 전체 열 슬라이싱\n",
    "# 마지막 열 제외한 전체 행과 열 슬라이싱\n",
    "# 2행 2열 간격으로 전체 행과 열 슬라이싱\n",
    "a2[0], a2[0, :], a2[:, :-1], a2[::2, ::2]"
   ]
  },
  {
   "cell_type": "code",
   "execution_count": 18,
   "metadata": {
    "colab": {
     "base_uri": "https://localhost:8080/"
    },
    "executionInfo": {
     "elapsed": 4,
     "status": "ok",
     "timestamp": 1684576241389,
     "user": {
      "displayName": "꾬은주",
      "userId": "05623544279730996499"
     },
     "user_tz": -540
    },
    "id": "fNxaz2XZkXFT",
    "outputId": "30d5fb9a-fa21-4c59-adff-0131d14f1027"
   },
   "outputs": [
    {
     "data": {
      "text/plain": [
       "array([[20, 20, 20, 20],\n",
       "       [ 4,  5,  6,  7],\n",
       "       [ 8,  9, 10, 11]])"
      ]
     },
     "execution_count": 18,
     "metadata": {},
     "output_type": "execute_result"
    }
   ],
   "source": [
    "# 0번 행 요소를 모두 20으로 변경\n",
    "a2[0] = 20\n",
    "a2"
   ]
  },
  {
   "cell_type": "code",
   "execution_count": 21,
   "metadata": {
    "colab": {
     "base_uri": "https://localhost:8080/"
    },
    "executionInfo": {
     "elapsed": 3,
     "status": "ok",
     "timestamp": 1684576248847,
     "user": {
      "displayName": "꾬은주",
      "userId": "05623544279730996499"
     },
     "user_tz": -540
    },
    "id": "M5n0r_TkkY2A",
    "outputId": "2cde3552-519e-4dfb-c5b9-fa1298aae054"
   },
   "outputs": [
    {
     "name": "stdout",
     "output_type": "stream",
     "text": [
      "[[30 20 20 30]\n",
      " [ 4  5  6  7]\n",
      " [30  9 10 30]]\n"
     ]
    }
   ],
   "source": [
    "# 슬라이싱된 요소값을 한꺼번에 변경\n",
    "# [[30 20 20 30]\n",
    "#  [ 4  5  6  7]\n",
    "#  [30  9 10 30]]\n",
    "a2[::2, ::3] = 30\n",
    "print(a2)"
   ]
  },
  {
   "cell_type": "code",
   "execution_count": 23,
   "metadata": {
    "colab": {
     "base_uri": "https://localhost:8080/"
    },
    "executionInfo": {
     "elapsed": 6,
     "status": "ok",
     "timestamp": 1684576257368,
     "user": {
      "displayName": "꾬은주",
      "userId": "05623544279730996499"
     },
     "user_tz": -540
    },
    "id": "7PvFXxSqkawa",
    "outputId": "54746968-34b9-4cf4-85c0-657c10ad0f33"
   },
   "outputs": [
    {
     "name": "stdout",
     "output_type": "stream",
     "text": [
      "[[-1 -1 -1 -1]\n",
      " [-1 -1 -1 -1]\n",
      " [-1 -1 -1 -1]]\n"
     ]
    }
   ],
   "source": [
    "# 전체 요소값을 한꺼번에 변경 : -1\n",
    "a2[:,:] = -1\n",
    "print(a2)"
   ]
  },
  {
   "cell_type": "markdown",
   "metadata": {
    "id": "74xtrfuckcsM"
   },
   "source": [
    "### 2-6-3. 3차원 배열의 인덱싱과 슬라이싱\n",
    "* indexing : [면][행][열] 또는 [면, 행, 열]\n",
    "* slicing : [면 슬라이싱, 행 슬라이싱, 열 슬라이싱]"
   ]
  },
  {
   "cell_type": "code",
   "execution_count": 24,
   "metadata": {
    "colab": {
     "base_uri": "https://localhost:8080/"
    },
    "executionInfo": {
     "elapsed": 9,
     "status": "ok",
     "timestamp": 1684576282048,
     "user": {
      "displayName": "꾬은주",
      "userId": "05623544279730996499"
     },
     "user_tz": -540
    },
    "id": "GWqcdZfPkgxo",
    "outputId": "910653b7-2239-419b-ed76-bdffa439b30b"
   },
   "outputs": [
    {
     "name": "stdout",
     "output_type": "stream",
     "text": [
      "[[[ 0  1  2]\n",
      "  [ 3  4  5]]\n",
      "\n",
      " [[ 6  7  8]\n",
      "  [ 9 10 11]]] (2, 2, 3)\n"
     ]
    }
   ],
   "source": [
    "# 0 ~ 11 숫자로 2면 2행 3열 배열 생성\n",
    "a3 = np.arange(12).reshape(2,2,3)\n",
    "print(a3, a3.shape)"
   ]
  },
  {
   "cell_type": "code",
   "execution_count": 26,
   "metadata": {
    "colab": {
     "base_uri": "https://localhost:8080/"
    },
    "executionInfo": {
     "elapsed": 4,
     "status": "ok",
     "timestamp": 1684576289729,
     "user": {
      "displayName": "꾬은주",
      "userId": "05623544279730996499"
     },
     "user_tz": -540
    },
    "id": "YWqs7Osiki1r",
    "outputId": "1b3a1297-4edd-4d7b-b6f1-7f5727d41c5d"
   },
   "outputs": [
    {
     "data": {
      "text/plain": [
       "(0, 0, 5)"
      ]
     },
     "execution_count": 26,
     "metadata": {},
     "output_type": "execute_result"
    }
   ],
   "source": [
    "# 3차원 배열의 인덱싱\n",
    "# 0면 0행 0열 인덱싱\n",
    "# 0면 0행 0열 인덱싱\n",
    "# 0면 1행 2열 인덱싱\n",
    "a3[0][0][0], a3[0,0,0], a3[0,1,2]"
   ]
  },
  {
   "cell_type": "code",
   "execution_count": 29,
   "metadata": {
    "colab": {
     "base_uri": "https://localhost:8080/"
    },
    "executionInfo": {
     "elapsed": 3,
     "status": "ok",
     "timestamp": 1684576297352,
     "user": {
      "displayName": "꾬은주",
      "userId": "05623544279730996499"
     },
     "user_tz": -540
    },
    "id": "d4QDj3gMkk6k",
    "outputId": "7d931625-fc6c-4c33-aafe-4a9b35e1c551"
   },
   "outputs": [
    {
     "data": {
      "text/plain": [
       "(array([[[0, 1]],\n",
       " \n",
       "        [[6, 7]]]),\n",
       " array([[[0, 1]],\n",
       " \n",
       "        [[6, 7]]]))"
      ]
     },
     "execution_count": 29,
     "metadata": {},
     "output_type": "execute_result"
    }
   ],
   "source": [
    "# 3차원 배열의 슬라이싱\n",
    "# [[[0 1]]\n",
    "#  [[6 7]]]\n",
    "a3[:,:1,:2], a3[:,:-1,:-1]"
   ]
  },
  {
   "cell_type": "code",
   "execution_count": 31,
   "metadata": {
    "colab": {
     "base_uri": "https://localhost:8080/"
    },
    "executionInfo": {
     "elapsed": 3,
     "status": "ok",
     "timestamp": 1684576307146,
     "user": {
      "displayName": "꾬은주",
      "userId": "05623544279730996499"
     },
     "user_tz": -540
    },
    "id": "kLplg9zbknMv",
    "outputId": "af07e97f-b64e-4632-997b-03c35a56c4a9"
   },
   "outputs": [
    {
     "data": {
      "text/plain": [
       "(array([[[ 4,  5]],\n",
       " \n",
       "        [[10, 11]]]),\n",
       " array([[[ 4,  5]],\n",
       " \n",
       "        [[10, 11]]]))"
      ]
     },
     "execution_count": 31,
     "metadata": {},
     "output_type": "execute_result"
    }
   ],
   "source": [
    "# [[[ 4  5]]\n",
    "#  [[10 11]]]\n",
    "a3[:,1:2,1:3], a3[:,1:,1:]"
   ]
  },
  {
   "cell_type": "code",
   "execution_count": 33,
   "metadata": {
    "colab": {
     "base_uri": "https://localhost:8080/"
    },
    "executionInfo": {
     "elapsed": 331,
     "status": "ok",
     "timestamp": 1684576313626,
     "user": {
      "displayName": "꾬은주",
      "userId": "05623544279730996499"
     },
     "user_tz": -540
    },
    "id": "ZvjUwoJ3ko6Z",
    "outputId": "5574dd1e-520d-43d4-e76e-aa9f5b731e0f"
   },
   "outputs": [
    {
     "data": {
      "text/plain": [
       "array([[ 2,  5],\n",
       "       [ 8, 11]])"
      ]
     },
     "execution_count": 33,
     "metadata": {},
     "output_type": "execute_result"
    }
   ],
   "source": [
    "# [[ 2  5]\n",
    "#  [ 8 11]]\n",
    "a3[:,:,-1]"
   ]
  },
  {
   "cell_type": "code",
   "execution_count": 37,
   "metadata": {
    "colab": {
     "base_uri": "https://localhost:8080/"
    },
    "executionInfo": {
     "elapsed": 3,
     "status": "ok",
     "timestamp": 1684576325617,
     "user": {
      "displayName": "꾬은주",
      "userId": "05623544279730996499"
     },
     "user_tz": -540
    },
    "id": "5AWxnRh6kqYC",
    "outputId": "bf62bbcc-1859-4776-c008-69e9fa988eec"
   },
   "outputs": [
    {
     "data": {
      "text/plain": [
       "array([ 5, 11])"
      ]
     },
     "execution_count": 37,
     "metadata": {},
     "output_type": "execute_result"
    }
   ],
   "source": [
    "#[ 5 11]\n",
    "a3[:,-1,-1]"
   ]
  },
  {
   "cell_type": "code",
   "execution_count": 35,
   "metadata": {},
   "outputs": [
    {
     "data": {
      "text/plain": [
       "11"
      ]
     },
     "execution_count": 35,
     "metadata": {},
     "output_type": "execute_result"
    }
   ],
   "source": [
    "#11\n",
    "a3[-1,-1,-1]"
   ]
  },
  {
   "cell_type": "markdown",
   "metadata": {
    "id": "8Dz-NXPZk2Qt"
   },
   "source": [
    "### 2-6-4. Boolean Indexing\n",
    "* 넘파이 배열에 조건을 설정하면 True/False를 요소로 하는 배열 생성\n",
    "* 조건으로 설정된 값을 인덱스로 사용하여 조건에 맞는 값만 결과로 표시"
   ]
  },
  {
   "cell_type": "code",
   "execution_count": 38,
   "metadata": {
    "colab": {
     "base_uri": "https://localhost:8080/"
    },
    "executionInfo": {
     "elapsed": 8,
     "status": "ok",
     "timestamp": 1684576393127,
     "user": {
      "displayName": "꾬은주",
      "userId": "05623544279730996499"
     },
     "user_tz": -540
    },
    "id": "ZaYhOLuuk7ks",
    "outputId": "9ec7609b-6da8-43fd-ea21-e1985c464c4f"
   },
   "outputs": [
    {
     "data": {
      "text/plain": [
       "array([1, 2, 3, 4, 5, 6, 7])"
      ]
     },
     "execution_count": 38,
     "metadata": {},
     "output_type": "execute_result"
    }
   ],
   "source": [
    "# 1 ~ 7 숫자 1차원 배열 생성\n",
    "a= np.arange(1,8)\n",
    "a"
   ]
  },
  {
   "cell_type": "code",
   "execution_count": 39,
   "metadata": {
    "colab": {
     "base_uri": "https://localhost:8080/"
    },
    "executionInfo": {
     "elapsed": 4,
     "status": "ok",
     "timestamp": 1684576400565,
     "user": {
      "displayName": "꾬은주",
      "userId": "05623544279730996499"
     },
     "user_tz": -540
    },
    "id": "dPdbFbKnk9wf",
    "outputId": "5e562a48-ecee-4088-ed7c-ffb5d7f5b88c"
   },
   "outputs": [
    {
     "data": {
      "text/plain": [
       "array([False, False,  True,  True,  True,  True,  True])"
      ]
     },
     "execution_count": 39,
     "metadata": {},
     "output_type": "execute_result"
    }
   ],
   "source": [
    "# 배열 내 데이터가 2보다 큰지 여부를 넘파일 배열로 출력\n",
    "res = a>2\n",
    "res"
   ]
  },
  {
   "cell_type": "code",
   "execution_count": 40,
   "metadata": {
    "colab": {
     "base_uri": "https://localhost:8080/"
    },
    "executionInfo": {
     "elapsed": 9,
     "status": "ok",
     "timestamp": 1684576407346,
     "user": {
      "displayName": "꾬은주",
      "userId": "05623544279730996499"
     },
     "user_tz": -540
    },
    "id": "4EJdUnOBk_js",
    "outputId": "51079c78-36bc-47d6-8179-e1b94fa5ed02"
   },
   "outputs": [
    {
     "data": {
      "text/plain": [
       "array([3, 4, 5, 6, 7])"
      ]
     },
     "execution_count": 40,
     "metadata": {},
     "output_type": "execute_result"
    }
   ],
   "source": [
    "# 2보다 큰 수 출력\n",
    "a[a>2]"
   ]
  },
  {
   "cell_type": "code",
   "execution_count": 44,
   "metadata": {
    "colab": {
     "base_uri": "https://localhost:8080/"
    },
    "executionInfo": {
     "elapsed": 8,
     "status": "ok",
     "timestamp": 1684576450322,
     "user": {
      "displayName": "꾬은주",
      "userId": "05623544279730996499"
     },
     "user_tz": -540
    },
    "id": "RmX2KeLclJ5q",
    "outputId": "d87bb737-74f6-4c4d-e15c-711b9cf58e48"
   },
   "outputs": [
    {
     "data": {
      "text/plain": [
       "(array([3, 4, 5]), array([2, 4, 6]), array([1, 2, 3]))"
      ]
     },
     "execution_count": 44,
     "metadata": {},
     "output_type": "execute_result"
    }
   ],
   "source": [
    "# 2보다 크고 6보다 작은 요소만 추출\n",
    "# 짝수만 출력\n",
    "# 평균보다 작은 값만 추출\n",
    "a[(a>2) & (a<6)], a[a%2==0], a[a<a.mean()]"
   ]
  },
  {
   "cell_type": "markdown",
   "metadata": {
    "id": "7_UxtImclQQO"
   },
   "source": [
    "## 2-7. 넘파이 배열의 정렬"
   ]
  },
  {
   "cell_type": "markdown",
   "metadata": {},
   "source": [
    "### 2-7-1. 기본 정렬: sort 함수\n",
    "\n",
    "* *sorted_ndarray* = *numpy*.**sort**(*ndarray*)\n",
    "  - 오름차순 정렬\n",
    "  - 내림차순 정렬하기 : sort 결과에 [::-1]로 배열 뒤집시\n",
    "* *ndarray*.**sort()** : 배열 자체가 정렬됨 - 원본 자체가 변경됨"
   ]
  },
  {
   "cell_type": "code",
   "execution_count": 45,
   "metadata": {
    "colab": {
     "base_uri": "https://localhost:8080/"
    },
    "executionInfo": {
     "elapsed": 515,
     "status": "ok",
     "timestamp": 1684576527145,
     "user": {
      "displayName": "꾬은주",
      "userId": "05623544279730996499"
     },
     "user_tz": -540
    },
    "id": "C5JAjgpOlcsq",
    "outputId": "58303596-712d-4b41-bc19-705180eee68d"
   },
   "outputs": [
    {
     "name": "stdout",
     "output_type": "stream",
     "text": [
      "[2 8 9 7 3 1 4 5 6] (9,)\n"
     ]
    }
   ],
   "source": [
    "a=np.array([2, 8, 9, 7, 3, 1, 4, 5, 6])\n",
    "print(a, a.shape)"
   ]
  },
  {
   "cell_type": "code",
   "execution_count": 46,
   "metadata": {},
   "outputs": [
    {
     "data": {
      "text/plain": [
       "array([1, 2, 3, 4, 5, 6, 7, 8, 9])"
      ]
     },
     "execution_count": 46,
     "metadata": {},
     "output_type": "execute_result"
    }
   ],
   "source": [
    "# 원본 변경 없이 오름차순 정렬\n",
    "np.sort(a)"
   ]
  },
  {
   "cell_type": "code",
   "execution_count": 47,
   "metadata": {
    "colab": {
     "base_uri": "https://localhost:8080/"
    },
    "executionInfo": {
     "elapsed": 4,
     "status": "ok",
     "timestamp": 1684576543734,
     "user": {
      "displayName": "꾬은주",
      "userId": "05623544279730996499"
     },
     "user_tz": -540
    },
    "id": "K3pVEjLolhFC",
    "outputId": "86c92f7b-a0aa-4e2d-fee2-25a53b709827"
   },
   "outputs": [
    {
     "data": {
      "text/plain": [
       "array([9, 8, 7, 6, 5, 4, 3, 2, 1])"
      ]
     },
     "execution_count": 47,
     "metadata": {},
     "output_type": "execute_result"
    }
   ],
   "source": [
    "# 내림차순 정렬\n",
    "np.sort(a)[::-1]"
   ]
  },
  {
   "cell_type": "code",
   "execution_count": 48,
   "metadata": {
    "colab": {
     "base_uri": "https://localhost:8080/"
    },
    "executionInfo": {
     "elapsed": 2,
     "status": "ok",
     "timestamp": 1684576537471,
     "user": {
      "displayName": "꾬은주",
      "userId": "05623544279730996499"
     },
     "user_tz": -540
    },
    "id": "amO84Kk5le_J",
    "outputId": "09b8a259-1d81-49f7-c318-b73e6e77ecba"
   },
   "outputs": [
    {
     "data": {
      "text/plain": [
       "array([1, 2, 3, 4, 5, 6, 7, 8, 9])"
      ]
     },
     "execution_count": 48,
     "metadata": {},
     "output_type": "execute_result"
    }
   ],
   "source": [
    "# 원본을 오름차순 정렬\n",
    "a.sort()\n",
    "a"
   ]
  },
  {
   "cell_type": "markdown",
   "metadata": {
    "id": "mhB898x9ljoG"
   },
   "source": [
    "### 2-7-2. 인덱스 반환 정렬: argsort 함수\n",
    "* 정렬된 값을 인덱스로 반환\n",
    "\n",
    "* *sorted_index_list* = *numpy*.**argsort**(*ndarray*)"
   ]
  },
  {
   "cell_type": "code",
   "execution_count": 49,
   "metadata": {
    "colab": {
     "base_uri": "https://localhost:8080/"
    },
    "executionInfo": {
     "elapsed": 3,
     "status": "ok",
     "timestamp": 1684576569673,
     "user": {
      "displayName": "꾬은주",
      "userId": "05623544279730996499"
     },
     "user_tz": -540
    },
    "id": "qjZSCP25lm64",
    "outputId": "daef6b9d-293b-45f9-8523-988321bfb02a"
   },
   "outputs": [
    {
     "name": "stdout",
     "output_type": "stream",
     "text": [
      "[2 8 9 7 3 1 4 5 6] (9,)\n"
     ]
    }
   ],
   "source": [
    "a=np.array([2, 8, 9, 7, 3, 1, 4, 5, 6])\n",
    "print(a, a.shape)"
   ]
  },
  {
   "cell_type": "code",
   "execution_count": 50,
   "metadata": {
    "colab": {
     "base_uri": "https://localhost:8080/"
    },
    "executionInfo": {
     "elapsed": 9,
     "status": "ok",
     "timestamp": 1684576592043,
     "user": {
      "displayName": "꾬은주",
      "userId": "05623544279730996499"
     },
     "user_tz": -540
    },
    "id": "bEt8HFTAlrMl",
    "outputId": "041a4cb0-d731-4e1e-bf5a-0a098620c7e1"
   },
   "outputs": [
    {
     "data": {
      "text/plain": [
       "array([5, 0, 4, 6, 7, 8, 3, 1, 2], dtype=int64)"
      ]
     },
     "execution_count": 50,
     "metadata": {},
     "output_type": "execute_result"
    }
   ],
   "source": [
    "slist = np.argsort(a)\n",
    "slist"
   ]
  },
  {
   "cell_type": "markdown",
   "metadata": {
    "id": "s1LMao5iluWI"
   },
   "source": [
    "### 2-7-3. 2차원 배열의 정렬\n",
    "* axis를 사용하여 행 또는 열 기준으로 정렬\n",
    "  - axis = 0 : 열 요소 정렬\n",
    "  - axis = 1 : 행 요소 정렬 (생략시)"
   ]
  },
  {
   "cell_type": "code",
   "execution_count": 51,
   "metadata": {
    "colab": {
     "base_uri": "https://localhost:8080/"
    },
    "executionInfo": {
     "elapsed": 3,
     "status": "ok",
     "timestamp": 1684576611496,
     "user": {
      "displayName": "꾬은주",
      "userId": "05623544279730996499"
     },
     "user_tz": -540
    },
    "id": "zXZDLXNElxCn",
    "outputId": "2b21b17d-5882-47af-cf01-422de281833d"
   },
   "outputs": [
    {
     "name": "stdout",
     "output_type": "stream",
     "text": [
      "[[ 5  6  7  8]\n",
      " [ 4  3  2  1]\n",
      " [10  9 12 11]]\n"
     ]
    }
   ],
   "source": [
    "arr2d=np.array([[5, 6, 7, 8],\n",
    " [4, 3, 2, 1],\n",
    " [10, 9, 12, 11]])\n",
    "print(arr2d)"
   ]
  },
  {
   "cell_type": "code",
   "execution_count": 52,
   "metadata": {
    "colab": {
     "base_uri": "https://localhost:8080/"
    },
    "executionInfo": {
     "elapsed": 4,
     "status": "ok",
     "timestamp": 1684576620503,
     "user": {
      "displayName": "꾬은주",
      "userId": "05623544279730996499"
     },
     "user_tz": -540
    },
    "id": "1rHOQuqElzom",
    "outputId": "7cf94bbf-c05a-41a9-d7a4-6e114cf4c61b"
   },
   "outputs": [
    {
     "data": {
      "text/plain": [
       "array([[ 5,  6,  7,  8],\n",
       "       [ 1,  2,  3,  4],\n",
       "       [ 9, 10, 11, 12]])"
      ]
     },
     "execution_count": 52,
     "metadata": {},
     "output_type": "execute_result"
    }
   ],
   "source": [
    "# 열 방향으로 같은 행의 요소 정렬\n",
    "np.sort(arr2d, axis=1)"
   ]
  },
  {
   "cell_type": "code",
   "execution_count": 53,
   "metadata": {
    "colab": {
     "base_uri": "https://localhost:8080/"
    },
    "executionInfo": {
     "elapsed": 358,
     "status": "ok",
     "timestamp": 1684576628731,
     "user": {
      "displayName": "꾬은주",
      "userId": "05623544279730996499"
     },
     "user_tz": -540
    },
    "id": "Rp1xNCTzl1dJ",
    "outputId": "de55e717-36f0-4483-d961-7d0a3159a9ac"
   },
   "outputs": [
    {
     "data": {
      "text/plain": [
       "array([[ 4,  3,  2,  1],\n",
       "       [ 5,  6,  7,  8],\n",
       "       [10,  9, 12, 11]])"
      ]
     },
     "execution_count": 53,
     "metadata": {},
     "output_type": "execute_result"
    }
   ],
   "source": [
    "# 행 방향으로 같은 열의 요소 정렬\n",
    "np.sort(arr2d, axis=0)"
   ]
  }
 ],
 "metadata": {
  "colab": {
   "authorship_tag": "ABX9TyMgdRDI49aDreypKDvoDdhA",
   "provenance": []
  },
  "kernelspec": {
   "display_name": "Python 3 (ipykernel)",
   "language": "python",
   "name": "python3"
  },
  "language_info": {
   "codemirror_mode": {
    "name": "ipython",
    "version": 3
   },
   "file_extension": ".py",
   "mimetype": "text/x-python",
   "name": "python",
   "nbconvert_exporter": "python",
   "pygments_lexer": "ipython3",
   "version": "3.10.9"
  }
 },
 "nbformat": 4,
 "nbformat_minor": 1
}
